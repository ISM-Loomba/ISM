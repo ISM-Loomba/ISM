{
  "cells": [
    {
      "cell_type": "code",
      "execution_count": 3,
      "metadata": {
        "pycharm": {
          "is_executing": false
        }
      },
      "outputs": [
        {
          "name": "stdout",
          "text": [
            "             12   11   10    9    8    7    6    5    4    3    2   1\nparameters                                                           \n1             V    V    V    V    V    V    V    V    V    V    V NaN\n2             A    A    A    O    A    A    O    A    A    A  NaN NaN\n3             V    V    V    V    V    O    V    A    X  NaN  NaN NaN\n4             X    V    V    V    V    V    O    A  NaN  NaN  NaN NaN\n5             V    V    V    V    V    V    V  NaN  NaN  NaN  NaN NaN\n6             O    V    A    V    A    O  NaN  NaN  NaN  NaN  NaN NaN\n7             A    V    A    O    A  NaN  NaN  NaN  NaN  NaN  NaN NaN\n8             A    V    V    V  NaN  NaN  NaN  NaN  NaN  NaN  NaN NaN\n9             O    A    A  NaN  NaN  NaN  NaN  NaN  NaN  NaN  NaN NaN\n10            A    V  NaN  NaN  NaN  NaN  NaN  NaN  NaN  NaN  NaN NaN\n11            A  NaN  NaN  NaN  NaN  NaN  NaN  NaN  NaN  NaN  NaN NaN\n12          NaN  NaN  NaN  NaN  NaN  NaN  NaN  NaN  NaN  NaN  NaN NaN\n"
          ],
          "output_type": "stream"
        }
      ],
      "source": "\nimport numpy as np\nimport pandas as pd\n\ndf \u003d pd.read_csv(\u0027/Users/saching12/Desktop/python codes/ISM/failsal_thalib.csv\u0027, delim_whitespace\u003dTrue, index_col\u003d0)\nprint(df)\n\n"
    },
    {
      "cell_type": "markdown",
      "metadata": {
        "pycharm": {}
      },
      "source": [
        "## name "
      ]
    },
    {
      "cell_type": "code",
      "execution_count": 4,
      "metadata": {
        "pycharm": {
          "is_executing": false,
          "metadata": false,
          "name": "#%%\n"
        }
      },
      "outputs": [
        {
          "data": {
            "text/plain": "array([12, 11, 10,  9,  8,  7,  6,  5,  4,  3,  2,  1])"
          },
          "metadata": {},
          "output_type": "execute_result",
          "execution_count": 4
        }
      ],
      "source": "df.index.values[::-1]\n"
    },
    {
      "cell_type": "markdown",
      "source": "## Initial Reachability Matrix\n",
      "metadata": {
        "pycharm": {
          "metadata": false
        }
      }
    },
    {
      "cell_type": "code",
      "execution_count": 32,
      "metadata": {
        "pycharm": {
          "is_executing": false
        }
      },
      "outputs": [
        {
          "data": {
            "text/plain": "array([[1, 1, 1, 1, 1, 1, 1, 1, 1, 1, 1, 1],\n       [0, 1, 0, 0, 0, 0, 0, 0, 0, 0, 0, 0],\n       [0, 1, 1, 1, 0, 1, 0, 1, 1, 1, 1, 1],\n       [0, 1, 1, 1, 0, 0, 1, 1, 1, 1, 1, 1],\n       [0, 1, 1, 1, 1, 1, 1, 1, 1, 1, 1, 1],\n       [0, 0, 0, 0, 0, 1, 0, 0, 1, 0, 1, 0],\n       [0, 1, 0, 0, 0, 0, 1, 0, 0, 0, 1, 0],\n       [0, 1, 0, 0, 0, 1, 1, 1, 1, 1, 1, 0],\n       [0, 0, 0, 0, 0, 0, 0, 0, 1, 0, 0, 0],\n       [0, 1, 0, 0, 0, 1, 1, 0, 1, 1, 1, 0],\n       [0, 1, 0, 0, 0, 0, 0, 0, 1, 0, 1, 0],\n       [0, 1, 0, 1, 0, 0, 1, 1, 0, 1, 1, 1]])"
          },
          "metadata": {},
          "output_type": "execute_result",
          "execution_count": 32
        }
      ],
      "source": "IPM \u003d np.empty(df.shape, dtype\u003dint)\n\nsize \u003d len(df.columns)\ni \u003d 0\n\nfor index, row in df.iterrows():\n    size \u003d len(df.columns)\n    while size \u003e 0:\n        if i \u003d\u003d size - 1:\n            IPM[size - 1][i] \u003d 1\n        elif pd.isnull(row[str(size)]):\n            break\n        else:\n            if row[str(size)] \u003d\u003d \u0027V\u0027:\n                IPM[i][size - 1] \u003d 1\n                IPM[size - 1][i] \u003d 0\n            elif row[str(size)] \u003d\u003d \u0027A\u0027:\n                IPM[i][size - 1] \u003d 0\n                IPM[size - 1][i] \u003d 1\n            elif row[str(size)] \u003d\u003d \u0027X\u0027:\n                IPM[i][size - 1] \u003d 1\n                IPM[size - 1][i] \u003d 1\n            elif row[str(size)] \u003d\u003d \u0027O\u0027:\n                IPM[i][size - 1] \u003d 0\n                IPM[size - 1][i] \u003d 0\n            else:\n                print(\"Invalid Output\")\n        size -\u003d 1\n    i +\u003d 1\n\nIPM"
    },
    {
      "cell_type": "code",
      "execution_count": 33,
      "metadata": {
        "pycharm": {
          "is_executing": false
        }
      },
      "outputs": [
        {
          "name": "stdout",
          "text": [
            "12\n"
          ],
          "output_type": "stream"
        }
      ],
      "source": "n \u003d IPM.shape[0]\nprint(n)\nfor  i in range(n):\n    for j in range(n):\n        for k in range(n):\n            if (IPM[i][j]\u003d\u003d1 and IPM[j][k]\u003d\u003d1 and IPM[i][k]\u003d\u003d0):\n                 IPM[i][k]\u003d1\n\nFRM \u003d IPM.copy()\n"
    },
    {
      "cell_type": "markdown",
      "source": "## Final Reachability Matrix",
      "metadata": {
        "pycharm": {
          "metadata": false
        }
      }
    },
    {
      "cell_type": "code",
      "execution_count": 34,
      "metadata": {
        "pycharm": {
          "is_executing": false,
          "metadata": false,
          "name": "#%%\n"
        }
      },
      "outputs": [
        {
          "name": "stdout",
          "text": [
            "Final Reachability matrix\n"
          ],
          "output_type": "stream"
        },
        {
          "data": {
            "text/plain": "    1  2  3  4  5  6  7  8  9  10  11  12\n1   1  1  1  1  1  1  1  1  1   1   1   1\n2   0  1  0  0  0  0  0  0  0   0   0   0\n3   0  1  1  1  0  1  1  1  1   1   1   1\n4   0  1  1  1  0  1  1  1  1   1   1   1\n5   0  1  1  1  1  1  1  1  1   1   1   1\n6   0  1  0  0  0  1  0  0  1   0   1   0\n7   0  1  0  0  0  0  1  0  1   0   1   0\n8   0  1  0  0  0  1  1  1  1   1   1   0\n9   0  0  0  0  0  0  0  0  1   0   0   0\n10  0  1  0  0  0  1  1  0  1   1   1   0\n11  0  1  0  0  0  0  0  0  1   0   1   0\n12  0  1  1  1  0  1  1  1  1   1   1   1",
            "text/html": "\u003cdiv\u003e\n\u003cstyle scoped\u003e\n    .dataframe tbody tr th:only-of-type {\n        vertical-align: middle;\n    }\n\n    .dataframe tbody tr th {\n        vertical-align: top;\n    }\n\n    .dataframe thead th {\n        text-align: right;\n    }\n\u003c/style\u003e\n\u003ctable border\u003d\"1\" class\u003d\"dataframe\"\u003e\n  \u003cthead\u003e\n    \u003ctr style\u003d\"text-align: right;\"\u003e\n      \u003cth\u003e\u003c/th\u003e\n      \u003cth\u003e1\u003c/th\u003e\n      \u003cth\u003e2\u003c/th\u003e\n      \u003cth\u003e3\u003c/th\u003e\n      \u003cth\u003e4\u003c/th\u003e\n      \u003cth\u003e5\u003c/th\u003e\n      \u003cth\u003e6\u003c/th\u003e\n      \u003cth\u003e7\u003c/th\u003e\n      \u003cth\u003e8\u003c/th\u003e\n      \u003cth\u003e9\u003c/th\u003e\n      \u003cth\u003e10\u003c/th\u003e\n      \u003cth\u003e11\u003c/th\u003e\n      \u003cth\u003e12\u003c/th\u003e\n    \u003c/tr\u003e\n  \u003c/thead\u003e\n  \u003ctbody\u003e\n    \u003ctr\u003e\n      \u003cth\u003e1\u003c/th\u003e\n      \u003ctd\u003e1\u003c/td\u003e\n      \u003ctd\u003e1\u003c/td\u003e\n      \u003ctd\u003e1\u003c/td\u003e\n      \u003ctd\u003e1\u003c/td\u003e\n      \u003ctd\u003e1\u003c/td\u003e\n      \u003ctd\u003e1\u003c/td\u003e\n      \u003ctd\u003e1\u003c/td\u003e\n      \u003ctd\u003e1\u003c/td\u003e\n      \u003ctd\u003e1\u003c/td\u003e\n      \u003ctd\u003e1\u003c/td\u003e\n      \u003ctd\u003e1\u003c/td\u003e\n      \u003ctd\u003e1\u003c/td\u003e\n    \u003c/tr\u003e\n    \u003ctr\u003e\n      \u003cth\u003e2\u003c/th\u003e\n      \u003ctd\u003e0\u003c/td\u003e\n      \u003ctd\u003e1\u003c/td\u003e\n      \u003ctd\u003e0\u003c/td\u003e\n      \u003ctd\u003e0\u003c/td\u003e\n      \u003ctd\u003e0\u003c/td\u003e\n      \u003ctd\u003e0\u003c/td\u003e\n      \u003ctd\u003e0\u003c/td\u003e\n      \u003ctd\u003e0\u003c/td\u003e\n      \u003ctd\u003e0\u003c/td\u003e\n      \u003ctd\u003e0\u003c/td\u003e\n      \u003ctd\u003e0\u003c/td\u003e\n      \u003ctd\u003e0\u003c/td\u003e\n    \u003c/tr\u003e\n    \u003ctr\u003e\n      \u003cth\u003e3\u003c/th\u003e\n      \u003ctd\u003e0\u003c/td\u003e\n      \u003ctd\u003e1\u003c/td\u003e\n      \u003ctd\u003e1\u003c/td\u003e\n      \u003ctd\u003e1\u003c/td\u003e\n      \u003ctd\u003e0\u003c/td\u003e\n      \u003ctd\u003e1\u003c/td\u003e\n      \u003ctd\u003e1\u003c/td\u003e\n      \u003ctd\u003e1\u003c/td\u003e\n      \u003ctd\u003e1\u003c/td\u003e\n      \u003ctd\u003e1\u003c/td\u003e\n      \u003ctd\u003e1\u003c/td\u003e\n      \u003ctd\u003e1\u003c/td\u003e\n    \u003c/tr\u003e\n    \u003ctr\u003e\n      \u003cth\u003e4\u003c/th\u003e\n      \u003ctd\u003e0\u003c/td\u003e\n      \u003ctd\u003e1\u003c/td\u003e\n      \u003ctd\u003e1\u003c/td\u003e\n      \u003ctd\u003e1\u003c/td\u003e\n      \u003ctd\u003e0\u003c/td\u003e\n      \u003ctd\u003e1\u003c/td\u003e\n      \u003ctd\u003e1\u003c/td\u003e\n      \u003ctd\u003e1\u003c/td\u003e\n      \u003ctd\u003e1\u003c/td\u003e\n      \u003ctd\u003e1\u003c/td\u003e\n      \u003ctd\u003e1\u003c/td\u003e\n      \u003ctd\u003e1\u003c/td\u003e\n    \u003c/tr\u003e\n    \u003ctr\u003e\n      \u003cth\u003e5\u003c/th\u003e\n      \u003ctd\u003e0\u003c/td\u003e\n      \u003ctd\u003e1\u003c/td\u003e\n      \u003ctd\u003e1\u003c/td\u003e\n      \u003ctd\u003e1\u003c/td\u003e\n      \u003ctd\u003e1\u003c/td\u003e\n      \u003ctd\u003e1\u003c/td\u003e\n      \u003ctd\u003e1\u003c/td\u003e\n      \u003ctd\u003e1\u003c/td\u003e\n      \u003ctd\u003e1\u003c/td\u003e\n      \u003ctd\u003e1\u003c/td\u003e\n      \u003ctd\u003e1\u003c/td\u003e\n      \u003ctd\u003e1\u003c/td\u003e\n    \u003c/tr\u003e\n    \u003ctr\u003e\n      \u003cth\u003e6\u003c/th\u003e\n      \u003ctd\u003e0\u003c/td\u003e\n      \u003ctd\u003e1\u003c/td\u003e\n      \u003ctd\u003e0\u003c/td\u003e\n      \u003ctd\u003e0\u003c/td\u003e\n      \u003ctd\u003e0\u003c/td\u003e\n      \u003ctd\u003e1\u003c/td\u003e\n      \u003ctd\u003e0\u003c/td\u003e\n      \u003ctd\u003e0\u003c/td\u003e\n      \u003ctd\u003e1\u003c/td\u003e\n      \u003ctd\u003e0\u003c/td\u003e\n      \u003ctd\u003e1\u003c/td\u003e\n      \u003ctd\u003e0\u003c/td\u003e\n    \u003c/tr\u003e\n    \u003ctr\u003e\n      \u003cth\u003e7\u003c/th\u003e\n      \u003ctd\u003e0\u003c/td\u003e\n      \u003ctd\u003e1\u003c/td\u003e\n      \u003ctd\u003e0\u003c/td\u003e\n      \u003ctd\u003e0\u003c/td\u003e\n      \u003ctd\u003e0\u003c/td\u003e\n      \u003ctd\u003e0\u003c/td\u003e\n      \u003ctd\u003e1\u003c/td\u003e\n      \u003ctd\u003e0\u003c/td\u003e\n      \u003ctd\u003e1\u003c/td\u003e\n      \u003ctd\u003e0\u003c/td\u003e\n      \u003ctd\u003e1\u003c/td\u003e\n      \u003ctd\u003e0\u003c/td\u003e\n    \u003c/tr\u003e\n    \u003ctr\u003e\n      \u003cth\u003e8\u003c/th\u003e\n      \u003ctd\u003e0\u003c/td\u003e\n      \u003ctd\u003e1\u003c/td\u003e\n      \u003ctd\u003e0\u003c/td\u003e\n      \u003ctd\u003e0\u003c/td\u003e\n      \u003ctd\u003e0\u003c/td\u003e\n      \u003ctd\u003e1\u003c/td\u003e\n      \u003ctd\u003e1\u003c/td\u003e\n      \u003ctd\u003e1\u003c/td\u003e\n      \u003ctd\u003e1\u003c/td\u003e\n      \u003ctd\u003e1\u003c/td\u003e\n      \u003ctd\u003e1\u003c/td\u003e\n      \u003ctd\u003e0\u003c/td\u003e\n    \u003c/tr\u003e\n    \u003ctr\u003e\n      \u003cth\u003e9\u003c/th\u003e\n      \u003ctd\u003e0\u003c/td\u003e\n      \u003ctd\u003e0\u003c/td\u003e\n      \u003ctd\u003e0\u003c/td\u003e\n      \u003ctd\u003e0\u003c/td\u003e\n      \u003ctd\u003e0\u003c/td\u003e\n      \u003ctd\u003e0\u003c/td\u003e\n      \u003ctd\u003e0\u003c/td\u003e\n      \u003ctd\u003e0\u003c/td\u003e\n      \u003ctd\u003e1\u003c/td\u003e\n      \u003ctd\u003e0\u003c/td\u003e\n      \u003ctd\u003e0\u003c/td\u003e\n      \u003ctd\u003e0\u003c/td\u003e\n    \u003c/tr\u003e\n    \u003ctr\u003e\n      \u003cth\u003e10\u003c/th\u003e\n      \u003ctd\u003e0\u003c/td\u003e\n      \u003ctd\u003e1\u003c/td\u003e\n      \u003ctd\u003e0\u003c/td\u003e\n      \u003ctd\u003e0\u003c/td\u003e\n      \u003ctd\u003e0\u003c/td\u003e\n      \u003ctd\u003e1\u003c/td\u003e\n      \u003ctd\u003e1\u003c/td\u003e\n      \u003ctd\u003e0\u003c/td\u003e\n      \u003ctd\u003e1\u003c/td\u003e\n      \u003ctd\u003e1\u003c/td\u003e\n      \u003ctd\u003e1\u003c/td\u003e\n      \u003ctd\u003e0\u003c/td\u003e\n    \u003c/tr\u003e\n    \u003ctr\u003e\n      \u003cth\u003e11\u003c/th\u003e\n      \u003ctd\u003e0\u003c/td\u003e\n      \u003ctd\u003e1\u003c/td\u003e\n      \u003ctd\u003e0\u003c/td\u003e\n      \u003ctd\u003e0\u003c/td\u003e\n      \u003ctd\u003e0\u003c/td\u003e\n      \u003ctd\u003e0\u003c/td\u003e\n      \u003ctd\u003e0\u003c/td\u003e\n      \u003ctd\u003e0\u003c/td\u003e\n      \u003ctd\u003e1\u003c/td\u003e\n      \u003ctd\u003e0\u003c/td\u003e\n      \u003ctd\u003e1\u003c/td\u003e\n      \u003ctd\u003e0\u003c/td\u003e\n    \u003c/tr\u003e\n    \u003ctr\u003e\n      \u003cth\u003e12\u003c/th\u003e\n      \u003ctd\u003e0\u003c/td\u003e\n      \u003ctd\u003e1\u003c/td\u003e\n      \u003ctd\u003e1\u003c/td\u003e\n      \u003ctd\u003e1\u003c/td\u003e\n      \u003ctd\u003e0\u003c/td\u003e\n      \u003ctd\u003e1\u003c/td\u003e\n      \u003ctd\u003e1\u003c/td\u003e\n      \u003ctd\u003e1\u003c/td\u003e\n      \u003ctd\u003e1\u003c/td\u003e\n      \u003ctd\u003e1\u003c/td\u003e\n      \u003ctd\u003e1\u003c/td\u003e\n      \u003ctd\u003e1\u003c/td\u003e\n    \u003c/tr\u003e\n  \u003c/tbody\u003e\n\u003c/table\u003e\n\u003c/div\u003e"
          },
          "metadata": {},
          "output_type": "execute_result",
          "execution_count": 34
        }
      ],
      "source": "FRM \u003d pd.DataFrame(data\u003dFRM,columns\u003ddf.columns[::-1],index\u003ddf.index.values)\nprint(\"Final Reachability matrix\")\nFRM\n"
    },
    {
      "cell_type": "code",
      "execution_count": 35,
      "metadata": {
        "pycharm": {
          "is_executing": false
        }
      },
      "outputs": [
        {
          "data": {
            "text/plain": "    Parameter                         Reachability_set  Level  \\\n0         1.0  {1, 2, 3, 4, 5, 6, 7, 8, 9, 10, 11, 12}    NaN   \n1         2.0                                      {2}    NaN   \n2         3.0        {2, 3, 4, 6, 7, 8, 9, 10, 11, 12}    NaN   \n3         4.0        {2, 3, 4, 6, 7, 8, 9, 10, 11, 12}    NaN   \n4         5.0     {2, 3, 4, 5, 6, 7, 8, 9, 10, 11, 12}    NaN   \n5         6.0                            {9, 2, 11, 6}    NaN   \n6         7.0                            {9, 2, 11, 7}    NaN   \n7         8.0                  {2, 6, 7, 8, 9, 10, 11}    NaN   \n8         9.0                                      {9}    NaN   \n9        10.0                     {2, 6, 7, 9, 10, 11}    NaN   \n10       11.0                               {9, 2, 11}    NaN   \n11       12.0        {2, 3, 4, 6, 7, 8, 9, 10, 11, 12}    NaN   \n\n                          Antecedent_set Intersection_set  \n0                                    {1}              {1}  \n1   {1, 2, 3, 4, 5, 6, 7, 8, 10, 11, 12}              {2}  \n2                       {1, 3, 4, 5, 12}       {3, 4, 12}  \n3                       {1, 3, 4, 5, 12}       {3, 4, 12}  \n4                                 {1, 5}              {5}  \n5             {1, 3, 4, 5, 6, 8, 10, 12}              {6}  \n6             {1, 3, 4, 5, 7, 8, 10, 12}              {7}  \n7                    {1, 3, 4, 5, 8, 12}              {8}  \n8   {1, 3, 4, 5, 6, 7, 8, 9, 10, 11, 12}              {9}  \n9                {1, 3, 4, 5, 8, 10, 12}             {10}  \n10     {1, 3, 4, 5, 6, 7, 8, 10, 11, 12}             {11}  \n11                      {1, 3, 4, 5, 12}       {3, 4, 12}  ",
            "text/html": "\u003cdiv\u003e\n\u003cstyle scoped\u003e\n    .dataframe tbody tr th:only-of-type {\n        vertical-align: middle;\n    }\n\n    .dataframe tbody tr th {\n        vertical-align: top;\n    }\n\n    .dataframe thead th {\n        text-align: right;\n    }\n\u003c/style\u003e\n\u003ctable border\u003d\"1\" class\u003d\"dataframe\"\u003e\n  \u003cthead\u003e\n    \u003ctr style\u003d\"text-align: right;\"\u003e\n      \u003cth\u003e\u003c/th\u003e\n      \u003cth\u003eParameter\u003c/th\u003e\n      \u003cth\u003eReachability_set\u003c/th\u003e\n      \u003cth\u003eLevel\u003c/th\u003e\n      \u003cth\u003eAntecedent_set\u003c/th\u003e\n      \u003cth\u003eIntersection_set\u003c/th\u003e\n    \u003c/tr\u003e\n  \u003c/thead\u003e\n  \u003ctbody\u003e\n    \u003ctr\u003e\n      \u003cth\u003e0\u003c/th\u003e\n      \u003ctd\u003e1.0\u003c/td\u003e\n      \u003ctd\u003e{1, 2, 3, 4, 5, 6, 7, 8, 9, 10, 11, 12}\u003c/td\u003e\n      \u003ctd\u003eNaN\u003c/td\u003e\n      \u003ctd\u003e{1}\u003c/td\u003e\n      \u003ctd\u003e{1}\u003c/td\u003e\n    \u003c/tr\u003e\n    \u003ctr\u003e\n      \u003cth\u003e1\u003c/th\u003e\n      \u003ctd\u003e2.0\u003c/td\u003e\n      \u003ctd\u003e{2}\u003c/td\u003e\n      \u003ctd\u003eNaN\u003c/td\u003e\n      \u003ctd\u003e{1, 2, 3, 4, 5, 6, 7, 8, 10, 11, 12}\u003c/td\u003e\n      \u003ctd\u003e{2}\u003c/td\u003e\n    \u003c/tr\u003e\n    \u003ctr\u003e\n      \u003cth\u003e2\u003c/th\u003e\n      \u003ctd\u003e3.0\u003c/td\u003e\n      \u003ctd\u003e{2, 3, 4, 6, 7, 8, 9, 10, 11, 12}\u003c/td\u003e\n      \u003ctd\u003eNaN\u003c/td\u003e\n      \u003ctd\u003e{1, 3, 4, 5, 12}\u003c/td\u003e\n      \u003ctd\u003e{3, 4, 12}\u003c/td\u003e\n    \u003c/tr\u003e\n    \u003ctr\u003e\n      \u003cth\u003e3\u003c/th\u003e\n      \u003ctd\u003e4.0\u003c/td\u003e\n      \u003ctd\u003e{2, 3, 4, 6, 7, 8, 9, 10, 11, 12}\u003c/td\u003e\n      \u003ctd\u003eNaN\u003c/td\u003e\n      \u003ctd\u003e{1, 3, 4, 5, 12}\u003c/td\u003e\n      \u003ctd\u003e{3, 4, 12}\u003c/td\u003e\n    \u003c/tr\u003e\n    \u003ctr\u003e\n      \u003cth\u003e4\u003c/th\u003e\n      \u003ctd\u003e5.0\u003c/td\u003e\n      \u003ctd\u003e{2, 3, 4, 5, 6, 7, 8, 9, 10, 11, 12}\u003c/td\u003e\n      \u003ctd\u003eNaN\u003c/td\u003e\n      \u003ctd\u003e{1, 5}\u003c/td\u003e\n      \u003ctd\u003e{5}\u003c/td\u003e\n    \u003c/tr\u003e\n    \u003ctr\u003e\n      \u003cth\u003e5\u003c/th\u003e\n      \u003ctd\u003e6.0\u003c/td\u003e\n      \u003ctd\u003e{9, 2, 11, 6}\u003c/td\u003e\n      \u003ctd\u003eNaN\u003c/td\u003e\n      \u003ctd\u003e{1, 3, 4, 5, 6, 8, 10, 12}\u003c/td\u003e\n      \u003ctd\u003e{6}\u003c/td\u003e\n    \u003c/tr\u003e\n    \u003ctr\u003e\n      \u003cth\u003e6\u003c/th\u003e\n      \u003ctd\u003e7.0\u003c/td\u003e\n      \u003ctd\u003e{9, 2, 11, 7}\u003c/td\u003e\n      \u003ctd\u003eNaN\u003c/td\u003e\n      \u003ctd\u003e{1, 3, 4, 5, 7, 8, 10, 12}\u003c/td\u003e\n      \u003ctd\u003e{7}\u003c/td\u003e\n    \u003c/tr\u003e\n    \u003ctr\u003e\n      \u003cth\u003e7\u003c/th\u003e\n      \u003ctd\u003e8.0\u003c/td\u003e\n      \u003ctd\u003e{2, 6, 7, 8, 9, 10, 11}\u003c/td\u003e\n      \u003ctd\u003eNaN\u003c/td\u003e\n      \u003ctd\u003e{1, 3, 4, 5, 8, 12}\u003c/td\u003e\n      \u003ctd\u003e{8}\u003c/td\u003e\n    \u003c/tr\u003e\n    \u003ctr\u003e\n      \u003cth\u003e8\u003c/th\u003e\n      \u003ctd\u003e9.0\u003c/td\u003e\n      \u003ctd\u003e{9}\u003c/td\u003e\n      \u003ctd\u003eNaN\u003c/td\u003e\n      \u003ctd\u003e{1, 3, 4, 5, 6, 7, 8, 9, 10, 11, 12}\u003c/td\u003e\n      \u003ctd\u003e{9}\u003c/td\u003e\n    \u003c/tr\u003e\n    \u003ctr\u003e\n      \u003cth\u003e9\u003c/th\u003e\n      \u003ctd\u003e10.0\u003c/td\u003e\n      \u003ctd\u003e{2, 6, 7, 9, 10, 11}\u003c/td\u003e\n      \u003ctd\u003eNaN\u003c/td\u003e\n      \u003ctd\u003e{1, 3, 4, 5, 8, 10, 12}\u003c/td\u003e\n      \u003ctd\u003e{10}\u003c/td\u003e\n    \u003c/tr\u003e\n    \u003ctr\u003e\n      \u003cth\u003e10\u003c/th\u003e\n      \u003ctd\u003e11.0\u003c/td\u003e\n      \u003ctd\u003e{9, 2, 11}\u003c/td\u003e\n      \u003ctd\u003eNaN\u003c/td\u003e\n      \u003ctd\u003e{1, 3, 4, 5, 6, 7, 8, 10, 11, 12}\u003c/td\u003e\n      \u003ctd\u003e{11}\u003c/td\u003e\n    \u003c/tr\u003e\n    \u003ctr\u003e\n      \u003cth\u003e11\u003c/th\u003e\n      \u003ctd\u003e12.0\u003c/td\u003e\n      \u003ctd\u003e{2, 3, 4, 6, 7, 8, 9, 10, 11, 12}\u003c/td\u003e\n      \u003ctd\u003eNaN\u003c/td\u003e\n      \u003ctd\u003e{1, 3, 4, 5, 12}\u003c/td\u003e\n      \u003ctd\u003e{3, 4, 12}\u003c/td\u003e\n    \u003c/tr\u003e\n  \u003c/tbody\u003e\n\u003c/table\u003e\n\u003c/div\u003e"
          },
          "metadata": {},
          "output_type": "execute_result",
          "execution_count": 35
        }
      ],
      "source": "frm \u003d pd.DataFrame(columns\u003d[\u0027Parameter\u0027, \u0027Reachability_set\u0027, \u0027Level\u0027], dtype\u003dnp.int8)\nfor i, row in enumerate(IPM):\n    sub_list \u003d []\n    for index, val in enumerate(row):\n        if val \u003d\u003d 1:\n            sub_list.append(index + 1)\n\n    frm \u003d frm.append({\u0027Parameter\u0027: i + 1, \u0027Reachability_set\u0027: set(sub_list)}, ignore_index\u003dTrue)\n\nAntecedent_set \u003d {}\nIntersection_set \u003d {}\n\nfor i, column in enumerate(IPM.T):\n    sub_list \u003d []\n    for index, val in enumerate(column):\n        if val \u003d\u003d 1:\n            sub_list.append(index + 1)\n\n    Antecedent_set[i + 1] \u003d set(sub_list)\n    \nfor index, Antecedent in Antecedent_set.items():\n    [val] \u003d frm[frm[\u0027Parameter\u0027] \u003d\u003d index][\u0027Reachability_set\u0027].values\n#print(val)\n    Intersection_set[index] \u003d Antecedent.intersection(val)\n    \n    \nAntecedent \u003d pd.DataFrame(list(Antecedent_set.items()), columns\u003d[\u0027Parameter\u0027, \u0027Antecedent_set\u0027])\nIntersection \u003d pd.DataFrame(list(Intersection_set.items()), columns\u003d[\u0027Parameter\u0027, \u0027Intersection_set\u0027])\n\nAntecedent \u003d Antecedent.merge(Intersection, on\u003d\u0027Parameter\u0027)\nBLI \u003d frm.merge(Antecedent, on\u003d\u0027Parameter\u0027)\n\nBLI\n\n"
    },
    {
      "cell_type": "markdown",
      "source": "\n# Barrier Level Iteration:\n\n",
      "metadata": {
        "pycharm": {
          "metadata": false,
          "name": "#%% md\n"
        }
      }
    },
    {
      "cell_type": "code",
      "execution_count": 36,
      "outputs": [
        {
          "data": {
            "text/plain": "\u003cIPython.core.display.HTML object\u003e",
            "text/html": " \u003ch3\u003eIteration Number: 1\u003c/h3\u003e"
          },
          "metadata": {},
          "output_type": "display_data"
        },
        {
          "data": {
            "text/plain": "    Parameter                         Reachability_set  Level  \\\n0         1.0  {1, 2, 3, 4, 5, 6, 7, 8, 9, 10, 11, 12}    NaN   \n1         2.0                                      {2}    1.0   \n2         3.0        {2, 3, 4, 6, 7, 8, 9, 10, 11, 12}    NaN   \n3         4.0        {2, 3, 4, 6, 7, 8, 9, 10, 11, 12}    NaN   \n4         5.0     {2, 3, 4, 5, 6, 7, 8, 9, 10, 11, 12}    NaN   \n5         6.0                            {9, 2, 11, 6}    NaN   \n6         7.0                            {9, 2, 11, 7}    NaN   \n7         8.0                  {2, 6, 7, 8, 9, 10, 11}    NaN   \n8         9.0                                      {9}    1.0   \n9        10.0                     {2, 6, 7, 9, 10, 11}    NaN   \n10       11.0                               {9, 2, 11}    NaN   \n11       12.0        {2, 3, 4, 6, 7, 8, 9, 10, 11, 12}    NaN   \n\n                          Antecedent_set Intersection_set  \n0                                    {1}              {1}  \n1   {1, 2, 3, 4, 5, 6, 7, 8, 10, 11, 12}              {2}  \n2                       {1, 3, 4, 5, 12}       {3, 4, 12}  \n3                       {1, 3, 4, 5, 12}       {3, 4, 12}  \n4                                 {1, 5}              {5}  \n5             {1, 3, 4, 5, 6, 8, 10, 12}              {6}  \n6             {1, 3, 4, 5, 7, 8, 10, 12}              {7}  \n7                    {1, 3, 4, 5, 8, 12}              {8}  \n8   {1, 3, 4, 5, 6, 7, 8, 9, 10, 11, 12}              {9}  \n9                {1, 3, 4, 5, 8, 10, 12}             {10}  \n10     {1, 3, 4, 5, 6, 7, 8, 10, 11, 12}             {11}  \n11                      {1, 3, 4, 5, 12}       {3, 4, 12}  ",
            "text/html": "\u003cdiv\u003e\n\u003cstyle scoped\u003e\n    .dataframe tbody tr th:only-of-type {\n        vertical-align: middle;\n    }\n\n    .dataframe tbody tr th {\n        vertical-align: top;\n    }\n\n    .dataframe thead th {\n        text-align: right;\n    }\n\u003c/style\u003e\n\u003ctable border\u003d\"1\" class\u003d\"dataframe\"\u003e\n  \u003cthead\u003e\n    \u003ctr style\u003d\"text-align: right;\"\u003e\n      \u003cth\u003e\u003c/th\u003e\n      \u003cth\u003eParameter\u003c/th\u003e\n      \u003cth\u003eReachability_set\u003c/th\u003e\n      \u003cth\u003eLevel\u003c/th\u003e\n      \u003cth\u003eAntecedent_set\u003c/th\u003e\n      \u003cth\u003eIntersection_set\u003c/th\u003e\n    \u003c/tr\u003e\n  \u003c/thead\u003e\n  \u003ctbody\u003e\n    \u003ctr\u003e\n      \u003cth\u003e0\u003c/th\u003e\n      \u003ctd\u003e1.0\u003c/td\u003e\n      \u003ctd\u003e{1, 2, 3, 4, 5, 6, 7, 8, 9, 10, 11, 12}\u003c/td\u003e\n      \u003ctd\u003eNaN\u003c/td\u003e\n      \u003ctd\u003e{1}\u003c/td\u003e\n      \u003ctd\u003e{1}\u003c/td\u003e\n    \u003c/tr\u003e\n    \u003ctr\u003e\n      \u003cth\u003e1\u003c/th\u003e\n      \u003ctd\u003e2.0\u003c/td\u003e\n      \u003ctd\u003e{2}\u003c/td\u003e\n      \u003ctd\u003e1.0\u003c/td\u003e\n      \u003ctd\u003e{1, 2, 3, 4, 5, 6, 7, 8, 10, 11, 12}\u003c/td\u003e\n      \u003ctd\u003e{2}\u003c/td\u003e\n    \u003c/tr\u003e\n    \u003ctr\u003e\n      \u003cth\u003e2\u003c/th\u003e\n      \u003ctd\u003e3.0\u003c/td\u003e\n      \u003ctd\u003e{2, 3, 4, 6, 7, 8, 9, 10, 11, 12}\u003c/td\u003e\n      \u003ctd\u003eNaN\u003c/td\u003e\n      \u003ctd\u003e{1, 3, 4, 5, 12}\u003c/td\u003e\n      \u003ctd\u003e{3, 4, 12}\u003c/td\u003e\n    \u003c/tr\u003e\n    \u003ctr\u003e\n      \u003cth\u003e3\u003c/th\u003e\n      \u003ctd\u003e4.0\u003c/td\u003e\n      \u003ctd\u003e{2, 3, 4, 6, 7, 8, 9, 10, 11, 12}\u003c/td\u003e\n      \u003ctd\u003eNaN\u003c/td\u003e\n      \u003ctd\u003e{1, 3, 4, 5, 12}\u003c/td\u003e\n      \u003ctd\u003e{3, 4, 12}\u003c/td\u003e\n    \u003c/tr\u003e\n    \u003ctr\u003e\n      \u003cth\u003e4\u003c/th\u003e\n      \u003ctd\u003e5.0\u003c/td\u003e\n      \u003ctd\u003e{2, 3, 4, 5, 6, 7, 8, 9, 10, 11, 12}\u003c/td\u003e\n      \u003ctd\u003eNaN\u003c/td\u003e\n      \u003ctd\u003e{1, 5}\u003c/td\u003e\n      \u003ctd\u003e{5}\u003c/td\u003e\n    \u003c/tr\u003e\n    \u003ctr\u003e\n      \u003cth\u003e5\u003c/th\u003e\n      \u003ctd\u003e6.0\u003c/td\u003e\n      \u003ctd\u003e{9, 2, 11, 6}\u003c/td\u003e\n      \u003ctd\u003eNaN\u003c/td\u003e\n      \u003ctd\u003e{1, 3, 4, 5, 6, 8, 10, 12}\u003c/td\u003e\n      \u003ctd\u003e{6}\u003c/td\u003e\n    \u003c/tr\u003e\n    \u003ctr\u003e\n      \u003cth\u003e6\u003c/th\u003e\n      \u003ctd\u003e7.0\u003c/td\u003e\n      \u003ctd\u003e{9, 2, 11, 7}\u003c/td\u003e\n      \u003ctd\u003eNaN\u003c/td\u003e\n      \u003ctd\u003e{1, 3, 4, 5, 7, 8, 10, 12}\u003c/td\u003e\n      \u003ctd\u003e{7}\u003c/td\u003e\n    \u003c/tr\u003e\n    \u003ctr\u003e\n      \u003cth\u003e7\u003c/th\u003e\n      \u003ctd\u003e8.0\u003c/td\u003e\n      \u003ctd\u003e{2, 6, 7, 8, 9, 10, 11}\u003c/td\u003e\n      \u003ctd\u003eNaN\u003c/td\u003e\n      \u003ctd\u003e{1, 3, 4, 5, 8, 12}\u003c/td\u003e\n      \u003ctd\u003e{8}\u003c/td\u003e\n    \u003c/tr\u003e\n    \u003ctr\u003e\n      \u003cth\u003e8\u003c/th\u003e\n      \u003ctd\u003e9.0\u003c/td\u003e\n      \u003ctd\u003e{9}\u003c/td\u003e\n      \u003ctd\u003e1.0\u003c/td\u003e\n      \u003ctd\u003e{1, 3, 4, 5, 6, 7, 8, 9, 10, 11, 12}\u003c/td\u003e\n      \u003ctd\u003e{9}\u003c/td\u003e\n    \u003c/tr\u003e\n    \u003ctr\u003e\n      \u003cth\u003e9\u003c/th\u003e\n      \u003ctd\u003e10.0\u003c/td\u003e\n      \u003ctd\u003e{2, 6, 7, 9, 10, 11}\u003c/td\u003e\n      \u003ctd\u003eNaN\u003c/td\u003e\n      \u003ctd\u003e{1, 3, 4, 5, 8, 10, 12}\u003c/td\u003e\n      \u003ctd\u003e{10}\u003c/td\u003e\n    \u003c/tr\u003e\n    \u003ctr\u003e\n      \u003cth\u003e10\u003c/th\u003e\n      \u003ctd\u003e11.0\u003c/td\u003e\n      \u003ctd\u003e{9, 2, 11}\u003c/td\u003e\n      \u003ctd\u003eNaN\u003c/td\u003e\n      \u003ctd\u003e{1, 3, 4, 5, 6, 7, 8, 10, 11, 12}\u003c/td\u003e\n      \u003ctd\u003e{11}\u003c/td\u003e\n    \u003c/tr\u003e\n    \u003ctr\u003e\n      \u003cth\u003e11\u003c/th\u003e\n      \u003ctd\u003e12.0\u003c/td\u003e\n      \u003ctd\u003e{2, 3, 4, 6, 7, 8, 9, 10, 11, 12}\u003c/td\u003e\n      \u003ctd\u003eNaN\u003c/td\u003e\n      \u003ctd\u003e{1, 3, 4, 5, 12}\u003c/td\u003e\n      \u003ctd\u003e{3, 4, 12}\u003c/td\u003e\n    \u003c/tr\u003e\n  \u003c/tbody\u003e\n\u003c/table\u003e\n\u003c/div\u003e"
          },
          "metadata": {},
          "output_type": "display_data"
        },
        {
          "data": {
            "text/plain": "\u003cIPython.core.display.HTML object\u003e",
            "text/html": " \u003ch3\u003eIteration Number: 2\u003c/h3\u003e"
          },
          "metadata": {},
          "output_type": "display_data"
        },
        {
          "data": {
            "text/plain": "    Parameter                   Reachability_set  Level  \\\n0         1.0  {1, 3, 4, 5, 6, 7, 8, 10, 11, 12}    NaN   \n2         3.0        {3, 4, 6, 7, 8, 10, 11, 12}    NaN   \n3         4.0        {3, 4, 6, 7, 8, 10, 11, 12}    NaN   \n4         5.0     {3, 4, 5, 6, 7, 8, 10, 11, 12}    NaN   \n5         6.0                            {11, 6}    NaN   \n6         7.0                            {11, 7}    NaN   \n7         8.0                  {6, 7, 8, 10, 11}    NaN   \n9        10.0                     {10, 11, 6, 7}    NaN   \n10       11.0                               {11}    2.0   \n11       12.0        {3, 4, 6, 7, 8, 10, 11, 12}    NaN   \n\n                       Antecedent_set Intersection_set  \n0                                 {1}              {1}  \n2                    {1, 3, 4, 5, 12}       {3, 4, 12}  \n3                    {1, 3, 4, 5, 12}       {3, 4, 12}  \n4                              {1, 5}              {5}  \n5          {1, 3, 4, 5, 6, 8, 10, 12}              {6}  \n6          {1, 3, 4, 5, 7, 8, 10, 12}              {7}  \n7                 {1, 3, 4, 5, 8, 12}              {8}  \n9             {1, 3, 4, 5, 8, 10, 12}             {10}  \n10  {1, 3, 4, 5, 6, 7, 8, 10, 11, 12}             {11}  \n11                   {1, 3, 4, 5, 12}       {3, 4, 12}  ",
            "text/html": "\u003cdiv\u003e\n\u003cstyle scoped\u003e\n    .dataframe tbody tr th:only-of-type {\n        vertical-align: middle;\n    }\n\n    .dataframe tbody tr th {\n        vertical-align: top;\n    }\n\n    .dataframe thead th {\n        text-align: right;\n    }\n\u003c/style\u003e\n\u003ctable border\u003d\"1\" class\u003d\"dataframe\"\u003e\n  \u003cthead\u003e\n    \u003ctr style\u003d\"text-align: right;\"\u003e\n      \u003cth\u003e\u003c/th\u003e\n      \u003cth\u003eParameter\u003c/th\u003e\n      \u003cth\u003eReachability_set\u003c/th\u003e\n      \u003cth\u003eLevel\u003c/th\u003e\n      \u003cth\u003eAntecedent_set\u003c/th\u003e\n      \u003cth\u003eIntersection_set\u003c/th\u003e\n    \u003c/tr\u003e\n  \u003c/thead\u003e\n  \u003ctbody\u003e\n    \u003ctr\u003e\n      \u003cth\u003e0\u003c/th\u003e\n      \u003ctd\u003e1.0\u003c/td\u003e\n      \u003ctd\u003e{1, 3, 4, 5, 6, 7, 8, 10, 11, 12}\u003c/td\u003e\n      \u003ctd\u003eNaN\u003c/td\u003e\n      \u003ctd\u003e{1}\u003c/td\u003e\n      \u003ctd\u003e{1}\u003c/td\u003e\n    \u003c/tr\u003e\n    \u003ctr\u003e\n      \u003cth\u003e2\u003c/th\u003e\n      \u003ctd\u003e3.0\u003c/td\u003e\n      \u003ctd\u003e{3, 4, 6, 7, 8, 10, 11, 12}\u003c/td\u003e\n      \u003ctd\u003eNaN\u003c/td\u003e\n      \u003ctd\u003e{1, 3, 4, 5, 12}\u003c/td\u003e\n      \u003ctd\u003e{3, 4, 12}\u003c/td\u003e\n    \u003c/tr\u003e\n    \u003ctr\u003e\n      \u003cth\u003e3\u003c/th\u003e\n      \u003ctd\u003e4.0\u003c/td\u003e\n      \u003ctd\u003e{3, 4, 6, 7, 8, 10, 11, 12}\u003c/td\u003e\n      \u003ctd\u003eNaN\u003c/td\u003e\n      \u003ctd\u003e{1, 3, 4, 5, 12}\u003c/td\u003e\n      \u003ctd\u003e{3, 4, 12}\u003c/td\u003e\n    \u003c/tr\u003e\n    \u003ctr\u003e\n      \u003cth\u003e4\u003c/th\u003e\n      \u003ctd\u003e5.0\u003c/td\u003e\n      \u003ctd\u003e{3, 4, 5, 6, 7, 8, 10, 11, 12}\u003c/td\u003e\n      \u003ctd\u003eNaN\u003c/td\u003e\n      \u003ctd\u003e{1, 5}\u003c/td\u003e\n      \u003ctd\u003e{5}\u003c/td\u003e\n    \u003c/tr\u003e\n    \u003ctr\u003e\n      \u003cth\u003e5\u003c/th\u003e\n      \u003ctd\u003e6.0\u003c/td\u003e\n      \u003ctd\u003e{11, 6}\u003c/td\u003e\n      \u003ctd\u003eNaN\u003c/td\u003e\n      \u003ctd\u003e{1, 3, 4, 5, 6, 8, 10, 12}\u003c/td\u003e\n      \u003ctd\u003e{6}\u003c/td\u003e\n    \u003c/tr\u003e\n    \u003ctr\u003e\n      \u003cth\u003e6\u003c/th\u003e\n      \u003ctd\u003e7.0\u003c/td\u003e\n      \u003ctd\u003e{11, 7}\u003c/td\u003e\n      \u003ctd\u003eNaN\u003c/td\u003e\n      \u003ctd\u003e{1, 3, 4, 5, 7, 8, 10, 12}\u003c/td\u003e\n      \u003ctd\u003e{7}\u003c/td\u003e\n    \u003c/tr\u003e\n    \u003ctr\u003e\n      \u003cth\u003e7\u003c/th\u003e\n      \u003ctd\u003e8.0\u003c/td\u003e\n      \u003ctd\u003e{6, 7, 8, 10, 11}\u003c/td\u003e\n      \u003ctd\u003eNaN\u003c/td\u003e\n      \u003ctd\u003e{1, 3, 4, 5, 8, 12}\u003c/td\u003e\n      \u003ctd\u003e{8}\u003c/td\u003e\n    \u003c/tr\u003e\n    \u003ctr\u003e\n      \u003cth\u003e9\u003c/th\u003e\n      \u003ctd\u003e10.0\u003c/td\u003e\n      \u003ctd\u003e{10, 11, 6, 7}\u003c/td\u003e\n      \u003ctd\u003eNaN\u003c/td\u003e\n      \u003ctd\u003e{1, 3, 4, 5, 8, 10, 12}\u003c/td\u003e\n      \u003ctd\u003e{10}\u003c/td\u003e\n    \u003c/tr\u003e\n    \u003ctr\u003e\n      \u003cth\u003e10\u003c/th\u003e\n      \u003ctd\u003e11.0\u003c/td\u003e\n      \u003ctd\u003e{11}\u003c/td\u003e\n      \u003ctd\u003e2.0\u003c/td\u003e\n      \u003ctd\u003e{1, 3, 4, 5, 6, 7, 8, 10, 11, 12}\u003c/td\u003e\n      \u003ctd\u003e{11}\u003c/td\u003e\n    \u003c/tr\u003e\n    \u003ctr\u003e\n      \u003cth\u003e11\u003c/th\u003e\n      \u003ctd\u003e12.0\u003c/td\u003e\n      \u003ctd\u003e{3, 4, 6, 7, 8, 10, 11, 12}\u003c/td\u003e\n      \u003ctd\u003eNaN\u003c/td\u003e\n      \u003ctd\u003e{1, 3, 4, 5, 12}\u003c/td\u003e\n      \u003ctd\u003e{3, 4, 12}\u003c/td\u003e\n    \u003c/tr\u003e\n  \u003c/tbody\u003e\n\u003c/table\u003e\n\u003c/div\u003e"
          },
          "metadata": {},
          "output_type": "display_data"
        },
        {
          "data": {
            "text/plain": "\u003cIPython.core.display.HTML object\u003e",
            "text/html": " \u003ch3\u003eIteration Number: 3\u003c/h3\u003e"
          },
          "metadata": {},
          "output_type": "display_data"
        },
        {
          "data": {
            "text/plain": "    Parameter               Reachability_set  Level  \\\n0         1.0  {1, 3, 4, 5, 6, 7, 8, 10, 12}    NaN   \n2         3.0        {3, 4, 6, 7, 8, 10, 12}    NaN   \n3         4.0        {3, 4, 6, 7, 8, 10, 12}    NaN   \n4         5.0     {3, 4, 5, 6, 7, 8, 10, 12}    NaN   \n5         6.0                            {6}    3.0   \n6         7.0                            {7}    3.0   \n7         8.0                  {8, 10, 6, 7}    NaN   \n9        10.0                     {10, 6, 7}    NaN   \n11       12.0        {3, 4, 6, 7, 8, 10, 12}    NaN   \n\n                Antecedent_set Intersection_set  \n0                          {1}              {1}  \n2             {1, 3, 4, 5, 12}       {3, 4, 12}  \n3             {1, 3, 4, 5, 12}       {3, 4, 12}  \n4                       {1, 5}              {5}  \n5   {1, 3, 4, 5, 6, 8, 10, 12}              {6}  \n6   {1, 3, 4, 5, 7, 8, 10, 12}              {7}  \n7          {1, 3, 4, 5, 8, 12}              {8}  \n9      {1, 3, 4, 5, 8, 10, 12}             {10}  \n11            {1, 3, 4, 5, 12}       {3, 4, 12}  ",
            "text/html": "\u003cdiv\u003e\n\u003cstyle scoped\u003e\n    .dataframe tbody tr th:only-of-type {\n        vertical-align: middle;\n    }\n\n    .dataframe tbody tr th {\n        vertical-align: top;\n    }\n\n    .dataframe thead th {\n        text-align: right;\n    }\n\u003c/style\u003e\n\u003ctable border\u003d\"1\" class\u003d\"dataframe\"\u003e\n  \u003cthead\u003e\n    \u003ctr style\u003d\"text-align: right;\"\u003e\n      \u003cth\u003e\u003c/th\u003e\n      \u003cth\u003eParameter\u003c/th\u003e\n      \u003cth\u003eReachability_set\u003c/th\u003e\n      \u003cth\u003eLevel\u003c/th\u003e\n      \u003cth\u003eAntecedent_set\u003c/th\u003e\n      \u003cth\u003eIntersection_set\u003c/th\u003e\n    \u003c/tr\u003e\n  \u003c/thead\u003e\n  \u003ctbody\u003e\n    \u003ctr\u003e\n      \u003cth\u003e0\u003c/th\u003e\n      \u003ctd\u003e1.0\u003c/td\u003e\n      \u003ctd\u003e{1, 3, 4, 5, 6, 7, 8, 10, 12}\u003c/td\u003e\n      \u003ctd\u003eNaN\u003c/td\u003e\n      \u003ctd\u003e{1}\u003c/td\u003e\n      \u003ctd\u003e{1}\u003c/td\u003e\n    \u003c/tr\u003e\n    \u003ctr\u003e\n      \u003cth\u003e2\u003c/th\u003e\n      \u003ctd\u003e3.0\u003c/td\u003e\n      \u003ctd\u003e{3, 4, 6, 7, 8, 10, 12}\u003c/td\u003e\n      \u003ctd\u003eNaN\u003c/td\u003e\n      \u003ctd\u003e{1, 3, 4, 5, 12}\u003c/td\u003e\n      \u003ctd\u003e{3, 4, 12}\u003c/td\u003e\n    \u003c/tr\u003e\n    \u003ctr\u003e\n      \u003cth\u003e3\u003c/th\u003e\n      \u003ctd\u003e4.0\u003c/td\u003e\n      \u003ctd\u003e{3, 4, 6, 7, 8, 10, 12}\u003c/td\u003e\n      \u003ctd\u003eNaN\u003c/td\u003e\n      \u003ctd\u003e{1, 3, 4, 5, 12}\u003c/td\u003e\n      \u003ctd\u003e{3, 4, 12}\u003c/td\u003e\n    \u003c/tr\u003e\n    \u003ctr\u003e\n      \u003cth\u003e4\u003c/th\u003e\n      \u003ctd\u003e5.0\u003c/td\u003e\n      \u003ctd\u003e{3, 4, 5, 6, 7, 8, 10, 12}\u003c/td\u003e\n      \u003ctd\u003eNaN\u003c/td\u003e\n      \u003ctd\u003e{1, 5}\u003c/td\u003e\n      \u003ctd\u003e{5}\u003c/td\u003e\n    \u003c/tr\u003e\n    \u003ctr\u003e\n      \u003cth\u003e5\u003c/th\u003e\n      \u003ctd\u003e6.0\u003c/td\u003e\n      \u003ctd\u003e{6}\u003c/td\u003e\n      \u003ctd\u003e3.0\u003c/td\u003e\n      \u003ctd\u003e{1, 3, 4, 5, 6, 8, 10, 12}\u003c/td\u003e\n      \u003ctd\u003e{6}\u003c/td\u003e\n    \u003c/tr\u003e\n    \u003ctr\u003e\n      \u003cth\u003e6\u003c/th\u003e\n      \u003ctd\u003e7.0\u003c/td\u003e\n      \u003ctd\u003e{7}\u003c/td\u003e\n      \u003ctd\u003e3.0\u003c/td\u003e\n      \u003ctd\u003e{1, 3, 4, 5, 7, 8, 10, 12}\u003c/td\u003e\n      \u003ctd\u003e{7}\u003c/td\u003e\n    \u003c/tr\u003e\n    \u003ctr\u003e\n      \u003cth\u003e7\u003c/th\u003e\n      \u003ctd\u003e8.0\u003c/td\u003e\n      \u003ctd\u003e{8, 10, 6, 7}\u003c/td\u003e\n      \u003ctd\u003eNaN\u003c/td\u003e\n      \u003ctd\u003e{1, 3, 4, 5, 8, 12}\u003c/td\u003e\n      \u003ctd\u003e{8}\u003c/td\u003e\n    \u003c/tr\u003e\n    \u003ctr\u003e\n      \u003cth\u003e9\u003c/th\u003e\n      \u003ctd\u003e10.0\u003c/td\u003e\n      \u003ctd\u003e{10, 6, 7}\u003c/td\u003e\n      \u003ctd\u003eNaN\u003c/td\u003e\n      \u003ctd\u003e{1, 3, 4, 5, 8, 10, 12}\u003c/td\u003e\n      \u003ctd\u003e{10}\u003c/td\u003e\n    \u003c/tr\u003e\n    \u003ctr\u003e\n      \u003cth\u003e11\u003c/th\u003e\n      \u003ctd\u003e12.0\u003c/td\u003e\n      \u003ctd\u003e{3, 4, 6, 7, 8, 10, 12}\u003c/td\u003e\n      \u003ctd\u003eNaN\u003c/td\u003e\n      \u003ctd\u003e{1, 3, 4, 5, 12}\u003c/td\u003e\n      \u003ctd\u003e{3, 4, 12}\u003c/td\u003e\n    \u003c/tr\u003e\n  \u003c/tbody\u003e\n\u003c/table\u003e\n\u003c/div\u003e"
          },
          "metadata": {},
          "output_type": "display_data"
        },
        {
          "data": {
            "text/plain": "\u003cIPython.core.display.HTML object\u003e",
            "text/html": " \u003ch3\u003eIteration Number: 4\u003c/h3\u003e"
          },
          "metadata": {},
          "output_type": "display_data"
        },
        {
          "data": {
            "text/plain": "    Parameter         Reachability_set  Level           Antecedent_set  \\\n0         1.0  {1, 3, 4, 5, 8, 10, 12}    NaN                      {1}   \n2         3.0        {3, 4, 8, 10, 12}    NaN         {1, 3, 4, 5, 12}   \n3         4.0        {3, 4, 8, 10, 12}    NaN         {1, 3, 4, 5, 12}   \n4         5.0     {3, 4, 5, 8, 10, 12}    NaN                   {1, 5}   \n7         8.0                  {8, 10}    NaN      {1, 3, 4, 5, 8, 12}   \n9        10.0                     {10}    4.0  {1, 3, 4, 5, 8, 10, 12}   \n11       12.0        {3, 4, 8, 10, 12}    NaN         {1, 3, 4, 5, 12}   \n\n   Intersection_set  \n0               {1}  \n2        {3, 4, 12}  \n3        {3, 4, 12}  \n4               {5}  \n7               {8}  \n9              {10}  \n11       {3, 4, 12}  ",
            "text/html": "\u003cdiv\u003e\n\u003cstyle scoped\u003e\n    .dataframe tbody tr th:only-of-type {\n        vertical-align: middle;\n    }\n\n    .dataframe tbody tr th {\n        vertical-align: top;\n    }\n\n    .dataframe thead th {\n        text-align: right;\n    }\n\u003c/style\u003e\n\u003ctable border\u003d\"1\" class\u003d\"dataframe\"\u003e\n  \u003cthead\u003e\n    \u003ctr style\u003d\"text-align: right;\"\u003e\n      \u003cth\u003e\u003c/th\u003e\n      \u003cth\u003eParameter\u003c/th\u003e\n      \u003cth\u003eReachability_set\u003c/th\u003e\n      \u003cth\u003eLevel\u003c/th\u003e\n      \u003cth\u003eAntecedent_set\u003c/th\u003e\n      \u003cth\u003eIntersection_set\u003c/th\u003e\n    \u003c/tr\u003e\n  \u003c/thead\u003e\n  \u003ctbody\u003e\n    \u003ctr\u003e\n      \u003cth\u003e0\u003c/th\u003e\n      \u003ctd\u003e1.0\u003c/td\u003e\n      \u003ctd\u003e{1, 3, 4, 5, 8, 10, 12}\u003c/td\u003e\n      \u003ctd\u003eNaN\u003c/td\u003e\n      \u003ctd\u003e{1}\u003c/td\u003e\n      \u003ctd\u003e{1}\u003c/td\u003e\n    \u003c/tr\u003e\n    \u003ctr\u003e\n      \u003cth\u003e2\u003c/th\u003e\n      \u003ctd\u003e3.0\u003c/td\u003e\n      \u003ctd\u003e{3, 4, 8, 10, 12}\u003c/td\u003e\n      \u003ctd\u003eNaN\u003c/td\u003e\n      \u003ctd\u003e{1, 3, 4, 5, 12}\u003c/td\u003e\n      \u003ctd\u003e{3, 4, 12}\u003c/td\u003e\n    \u003c/tr\u003e\n    \u003ctr\u003e\n      \u003cth\u003e3\u003c/th\u003e\n      \u003ctd\u003e4.0\u003c/td\u003e\n      \u003ctd\u003e{3, 4, 8, 10, 12}\u003c/td\u003e\n      \u003ctd\u003eNaN\u003c/td\u003e\n      \u003ctd\u003e{1, 3, 4, 5, 12}\u003c/td\u003e\n      \u003ctd\u003e{3, 4, 12}\u003c/td\u003e\n    \u003c/tr\u003e\n    \u003ctr\u003e\n      \u003cth\u003e4\u003c/th\u003e\n      \u003ctd\u003e5.0\u003c/td\u003e\n      \u003ctd\u003e{3, 4, 5, 8, 10, 12}\u003c/td\u003e\n      \u003ctd\u003eNaN\u003c/td\u003e\n      \u003ctd\u003e{1, 5}\u003c/td\u003e\n      \u003ctd\u003e{5}\u003c/td\u003e\n    \u003c/tr\u003e\n    \u003ctr\u003e\n      \u003cth\u003e7\u003c/th\u003e\n      \u003ctd\u003e8.0\u003c/td\u003e\n      \u003ctd\u003e{8, 10}\u003c/td\u003e\n      \u003ctd\u003eNaN\u003c/td\u003e\n      \u003ctd\u003e{1, 3, 4, 5, 8, 12}\u003c/td\u003e\n      \u003ctd\u003e{8}\u003c/td\u003e\n    \u003c/tr\u003e\n    \u003ctr\u003e\n      \u003cth\u003e9\u003c/th\u003e\n      \u003ctd\u003e10.0\u003c/td\u003e\n      \u003ctd\u003e{10}\u003c/td\u003e\n      \u003ctd\u003e4.0\u003c/td\u003e\n      \u003ctd\u003e{1, 3, 4, 5, 8, 10, 12}\u003c/td\u003e\n      \u003ctd\u003e{10}\u003c/td\u003e\n    \u003c/tr\u003e\n    \u003ctr\u003e\n      \u003cth\u003e11\u003c/th\u003e\n      \u003ctd\u003e12.0\u003c/td\u003e\n      \u003ctd\u003e{3, 4, 8, 10, 12}\u003c/td\u003e\n      \u003ctd\u003eNaN\u003c/td\u003e\n      \u003ctd\u003e{1, 3, 4, 5, 12}\u003c/td\u003e\n      \u003ctd\u003e{3, 4, 12}\u003c/td\u003e\n    \u003c/tr\u003e\n  \u003c/tbody\u003e\n\u003c/table\u003e\n\u003c/div\u003e"
          },
          "metadata": {},
          "output_type": "display_data"
        },
        {
          "data": {
            "text/plain": "\u003cIPython.core.display.HTML object\u003e",
            "text/html": " \u003ch3\u003eIteration Number: 5\u003c/h3\u003e"
          },
          "metadata": {},
          "output_type": "display_data"
        },
        {
          "data": {
            "text/plain": "    Parameter     Reachability_set  Level       Antecedent_set  \\\n0         1.0  {1, 3, 4, 5, 8, 12}    NaN                  {1}   \n2         3.0        {8, 3, 4, 12}    NaN     {1, 3, 4, 5, 12}   \n3         4.0        {8, 3, 4, 12}    NaN     {1, 3, 4, 5, 12}   \n4         5.0     {3, 4, 5, 8, 12}    NaN               {1, 5}   \n7         8.0                  {8}    5.0  {1, 3, 4, 5, 8, 12}   \n11       12.0        {8, 3, 4, 12}    NaN     {1, 3, 4, 5, 12}   \n\n   Intersection_set  \n0               {1}  \n2        {3, 4, 12}  \n3        {3, 4, 12}  \n4               {5}  \n7               {8}  \n11       {3, 4, 12}  ",
            "text/html": "\u003cdiv\u003e\n\u003cstyle scoped\u003e\n    .dataframe tbody tr th:only-of-type {\n        vertical-align: middle;\n    }\n\n    .dataframe tbody tr th {\n        vertical-align: top;\n    }\n\n    .dataframe thead th {\n        text-align: right;\n    }\n\u003c/style\u003e\n\u003ctable border\u003d\"1\" class\u003d\"dataframe\"\u003e\n  \u003cthead\u003e\n    \u003ctr style\u003d\"text-align: right;\"\u003e\n      \u003cth\u003e\u003c/th\u003e\n      \u003cth\u003eParameter\u003c/th\u003e\n      \u003cth\u003eReachability_set\u003c/th\u003e\n      \u003cth\u003eLevel\u003c/th\u003e\n      \u003cth\u003eAntecedent_set\u003c/th\u003e\n      \u003cth\u003eIntersection_set\u003c/th\u003e\n    \u003c/tr\u003e\n  \u003c/thead\u003e\n  \u003ctbody\u003e\n    \u003ctr\u003e\n      \u003cth\u003e0\u003c/th\u003e\n      \u003ctd\u003e1.0\u003c/td\u003e\n      \u003ctd\u003e{1, 3, 4, 5, 8, 12}\u003c/td\u003e\n      \u003ctd\u003eNaN\u003c/td\u003e\n      \u003ctd\u003e{1}\u003c/td\u003e\n      \u003ctd\u003e{1}\u003c/td\u003e\n    \u003c/tr\u003e\n    \u003ctr\u003e\n      \u003cth\u003e2\u003c/th\u003e\n      \u003ctd\u003e3.0\u003c/td\u003e\n      \u003ctd\u003e{8, 3, 4, 12}\u003c/td\u003e\n      \u003ctd\u003eNaN\u003c/td\u003e\n      \u003ctd\u003e{1, 3, 4, 5, 12}\u003c/td\u003e\n      \u003ctd\u003e{3, 4, 12}\u003c/td\u003e\n    \u003c/tr\u003e\n    \u003ctr\u003e\n      \u003cth\u003e3\u003c/th\u003e\n      \u003ctd\u003e4.0\u003c/td\u003e\n      \u003ctd\u003e{8, 3, 4, 12}\u003c/td\u003e\n      \u003ctd\u003eNaN\u003c/td\u003e\n      \u003ctd\u003e{1, 3, 4, 5, 12}\u003c/td\u003e\n      \u003ctd\u003e{3, 4, 12}\u003c/td\u003e\n    \u003c/tr\u003e\n    \u003ctr\u003e\n      \u003cth\u003e4\u003c/th\u003e\n      \u003ctd\u003e5.0\u003c/td\u003e\n      \u003ctd\u003e{3, 4, 5, 8, 12}\u003c/td\u003e\n      \u003ctd\u003eNaN\u003c/td\u003e\n      \u003ctd\u003e{1, 5}\u003c/td\u003e\n      \u003ctd\u003e{5}\u003c/td\u003e\n    \u003c/tr\u003e\n    \u003ctr\u003e\n      \u003cth\u003e7\u003c/th\u003e\n      \u003ctd\u003e8.0\u003c/td\u003e\n      \u003ctd\u003e{8}\u003c/td\u003e\n      \u003ctd\u003e5.0\u003c/td\u003e\n      \u003ctd\u003e{1, 3, 4, 5, 8, 12}\u003c/td\u003e\n      \u003ctd\u003e{8}\u003c/td\u003e\n    \u003c/tr\u003e\n    \u003ctr\u003e\n      \u003cth\u003e11\u003c/th\u003e\n      \u003ctd\u003e12.0\u003c/td\u003e\n      \u003ctd\u003e{8, 3, 4, 12}\u003c/td\u003e\n      \u003ctd\u003eNaN\u003c/td\u003e\n      \u003ctd\u003e{1, 3, 4, 5, 12}\u003c/td\u003e\n      \u003ctd\u003e{3, 4, 12}\u003c/td\u003e\n    \u003c/tr\u003e\n  \u003c/tbody\u003e\n\u003c/table\u003e\n\u003c/div\u003e"
          },
          "metadata": {},
          "output_type": "display_data"
        },
        {
          "data": {
            "text/plain": "\u003cIPython.core.display.HTML object\u003e",
            "text/html": " \u003ch3\u003eIteration Number: 6\u003c/h3\u003e"
          },
          "metadata": {},
          "output_type": "display_data"
        },
        {
          "data": {
            "text/plain": "    Parameter  Reachability_set  Level    Antecedent_set Intersection_set\n0         1.0  {1, 3, 4, 5, 12}    NaN               {1}              {1}\n2         3.0        {3, 4, 12}    6.0  {1, 3, 4, 5, 12}       {3, 4, 12}\n3         4.0        {3, 4, 12}    6.0  {1, 3, 4, 5, 12}       {3, 4, 12}\n4         5.0     {12, 3, 4, 5}    NaN            {1, 5}              {5}\n11       12.0        {3, 4, 12}    6.0  {1, 3, 4, 5, 12}       {3, 4, 12}",
            "text/html": "\u003cdiv\u003e\n\u003cstyle scoped\u003e\n    .dataframe tbody tr th:only-of-type {\n        vertical-align: middle;\n    }\n\n    .dataframe tbody tr th {\n        vertical-align: top;\n    }\n\n    .dataframe thead th {\n        text-align: right;\n    }\n\u003c/style\u003e\n\u003ctable border\u003d\"1\" class\u003d\"dataframe\"\u003e\n  \u003cthead\u003e\n    \u003ctr style\u003d\"text-align: right;\"\u003e\n      \u003cth\u003e\u003c/th\u003e\n      \u003cth\u003eParameter\u003c/th\u003e\n      \u003cth\u003eReachability_set\u003c/th\u003e\n      \u003cth\u003eLevel\u003c/th\u003e\n      \u003cth\u003eAntecedent_set\u003c/th\u003e\n      \u003cth\u003eIntersection_set\u003c/th\u003e\n    \u003c/tr\u003e\n  \u003c/thead\u003e\n  \u003ctbody\u003e\n    \u003ctr\u003e\n      \u003cth\u003e0\u003c/th\u003e\n      \u003ctd\u003e1.0\u003c/td\u003e\n      \u003ctd\u003e{1, 3, 4, 5, 12}\u003c/td\u003e\n      \u003ctd\u003eNaN\u003c/td\u003e\n      \u003ctd\u003e{1}\u003c/td\u003e\n      \u003ctd\u003e{1}\u003c/td\u003e\n    \u003c/tr\u003e\n    \u003ctr\u003e\n      \u003cth\u003e2\u003c/th\u003e\n      \u003ctd\u003e3.0\u003c/td\u003e\n      \u003ctd\u003e{3, 4, 12}\u003c/td\u003e\n      \u003ctd\u003e6.0\u003c/td\u003e\n      \u003ctd\u003e{1, 3, 4, 5, 12}\u003c/td\u003e\n      \u003ctd\u003e{3, 4, 12}\u003c/td\u003e\n    \u003c/tr\u003e\n    \u003ctr\u003e\n      \u003cth\u003e3\u003c/th\u003e\n      \u003ctd\u003e4.0\u003c/td\u003e\n      \u003ctd\u003e{3, 4, 12}\u003c/td\u003e\n      \u003ctd\u003e6.0\u003c/td\u003e\n      \u003ctd\u003e{1, 3, 4, 5, 12}\u003c/td\u003e\n      \u003ctd\u003e{3, 4, 12}\u003c/td\u003e\n    \u003c/tr\u003e\n    \u003ctr\u003e\n      \u003cth\u003e4\u003c/th\u003e\n      \u003ctd\u003e5.0\u003c/td\u003e\n      \u003ctd\u003e{12, 3, 4, 5}\u003c/td\u003e\n      \u003ctd\u003eNaN\u003c/td\u003e\n      \u003ctd\u003e{1, 5}\u003c/td\u003e\n      \u003ctd\u003e{5}\u003c/td\u003e\n    \u003c/tr\u003e\n    \u003ctr\u003e\n      \u003cth\u003e11\u003c/th\u003e\n      \u003ctd\u003e12.0\u003c/td\u003e\n      \u003ctd\u003e{3, 4, 12}\u003c/td\u003e\n      \u003ctd\u003e6.0\u003c/td\u003e\n      \u003ctd\u003e{1, 3, 4, 5, 12}\u003c/td\u003e\n      \u003ctd\u003e{3, 4, 12}\u003c/td\u003e\n    \u003c/tr\u003e\n  \u003c/tbody\u003e\n\u003c/table\u003e\n\u003c/div\u003e"
          },
          "metadata": {},
          "output_type": "display_data"
        },
        {
          "data": {
            "text/plain": "\u003cIPython.core.display.HTML object\u003e",
            "text/html": " \u003ch3\u003eIteration Number: 7\u003c/h3\u003e"
          },
          "metadata": {},
          "output_type": "display_data"
        },
        {
          "data": {
            "text/plain": "   Parameter Reachability_set  Level Antecedent_set Intersection_set\n0        1.0           {1, 5}    NaN            {1}              {1}\n4        5.0              {5}    7.0         {1, 5}              {5}",
            "text/html": "\u003cdiv\u003e\n\u003cstyle scoped\u003e\n    .dataframe tbody tr th:only-of-type {\n        vertical-align: middle;\n    }\n\n    .dataframe tbody tr th {\n        vertical-align: top;\n    }\n\n    .dataframe thead th {\n        text-align: right;\n    }\n\u003c/style\u003e\n\u003ctable border\u003d\"1\" class\u003d\"dataframe\"\u003e\n  \u003cthead\u003e\n    \u003ctr style\u003d\"text-align: right;\"\u003e\n      \u003cth\u003e\u003c/th\u003e\n      \u003cth\u003eParameter\u003c/th\u003e\n      \u003cth\u003eReachability_set\u003c/th\u003e\n      \u003cth\u003eLevel\u003c/th\u003e\n      \u003cth\u003eAntecedent_set\u003c/th\u003e\n      \u003cth\u003eIntersection_set\u003c/th\u003e\n    \u003c/tr\u003e\n  \u003c/thead\u003e\n  \u003ctbody\u003e\n    \u003ctr\u003e\n      \u003cth\u003e0\u003c/th\u003e\n      \u003ctd\u003e1.0\u003c/td\u003e\n      \u003ctd\u003e{1, 5}\u003c/td\u003e\n      \u003ctd\u003eNaN\u003c/td\u003e\n      \u003ctd\u003e{1}\u003c/td\u003e\n      \u003ctd\u003e{1}\u003c/td\u003e\n    \u003c/tr\u003e\n    \u003ctr\u003e\n      \u003cth\u003e4\u003c/th\u003e\n      \u003ctd\u003e5.0\u003c/td\u003e\n      \u003ctd\u003e{5}\u003c/td\u003e\n      \u003ctd\u003e7.0\u003c/td\u003e\n      \u003ctd\u003e{1, 5}\u003c/td\u003e\n      \u003ctd\u003e{5}\u003c/td\u003e\n    \u003c/tr\u003e\n  \u003c/tbody\u003e\n\u003c/table\u003e\n\u003c/div\u003e"
          },
          "metadata": {},
          "output_type": "display_data"
        },
        {
          "data": {
            "text/plain": "\u003cIPython.core.display.HTML object\u003e",
            "text/html": " \u003ch3\u003eIteration Number: 8\u003c/h3\u003e"
          },
          "metadata": {},
          "output_type": "display_data"
        },
        {
          "data": {
            "text/plain": "   Parameter Reachability_set  Level Antecedent_set Intersection_set\n0        1.0              {1}    8.0            {1}              {1}",
            "text/html": "\u003cdiv\u003e\n\u003cstyle scoped\u003e\n    .dataframe tbody tr th:only-of-type {\n        vertical-align: middle;\n    }\n\n    .dataframe tbody tr th {\n        vertical-align: top;\n    }\n\n    .dataframe thead th {\n        text-align: right;\n    }\n\u003c/style\u003e\n\u003ctable border\u003d\"1\" class\u003d\"dataframe\"\u003e\n  \u003cthead\u003e\n    \u003ctr style\u003d\"text-align: right;\"\u003e\n      \u003cth\u003e\u003c/th\u003e\n      \u003cth\u003eParameter\u003c/th\u003e\n      \u003cth\u003eReachability_set\u003c/th\u003e\n      \u003cth\u003eLevel\u003c/th\u003e\n      \u003cth\u003eAntecedent_set\u003c/th\u003e\n      \u003cth\u003eIntersection_set\u003c/th\u003e\n    \u003c/tr\u003e\n  \u003c/thead\u003e\n  \u003ctbody\u003e\n    \u003ctr\u003e\n      \u003cth\u003e0\u003c/th\u003e\n      \u003ctd\u003e1.0\u003c/td\u003e\n      \u003ctd\u003e{1}\u003c/td\u003e\n      \u003ctd\u003e8.0\u003c/td\u003e\n      \u003ctd\u003e{1}\u003c/td\u003e\n      \u003ctd\u003e{1}\u003c/td\u003e\n    \u003c/tr\u003e\n  \u003c/tbody\u003e\n\u003c/table\u003e\n\u003c/div\u003e"
          },
          "metadata": {},
          "output_type": "display_data"
        }
      ],
      "source": "from IPython.display import display, Markdown, Latex,HTML\n\nlevel \u003d 1\nremoved_numbers \u003d []\nBLI_final \u003d pd.DataFrame(columns\u003d[\u0027Parameter\u0027, \u0027Reachability_set\u0027,\u0027Antecedent_set\u0027,\u0027Intersection_set\u0027, \u0027Level\u0027], dtype\u003dnp.int8)\nwhile len(BLI.index) \u003e 0:\n    tem_list \u003d BLI[BLI[\u0027Reachability_set\u0027] \u003d\u003d BLI[\u0027Intersection_set\u0027]][\u0027Parameter\u0027]\n    removed_numbers +\u003d tem_list.tolist()\n    BLI.loc[BLI[\u0027Reachability_set\u0027] \u003d\u003d BLI[\u0027Intersection_set\u0027], \u0027Level\u0027] \u003d level\n    iteration \u003d \" \u003ch3\u003eIteration Number: \"+str(level)+ \u0027\u003c/h3\u003e\u0027\n    display(HTML(iteration))\n    display(BLI)\n    for i in BLI.index:\n        x \u003d BLI.at[i,\u0027Parameter\u0027]\n        if x in removed_numbers:\n            #print(BLI.loc[i]) \n            BLI_final \u003d BLI_final.append(BLI.loc[i])\n            BLI.at[i,\u0027Intersection_set\u0027] \u003d None\n            BLI \u003d BLI.drop(i,axis \u003d 0)\n            \n            continue\n        else:\n            Reachablility_temp \u003d BLI.at[i,\u0027Reachability_set\u0027]\n            Reachablility_temp \u003d [d for d in Reachablility_temp if float(d) not in removed_numbers]\n            BLI.at[i,\u0027Reachability_set\u0027] \u003d  set(Reachablility_temp)\n            Antecedent_temp \u003d BLI.at[i,\u0027Antecedent_set\u0027]\n            Antecedent_temp \u003d [d for d in Antecedent_temp if d not in removed_numbers]\n            BLI.at[i, \u0027Antecedent_set\u0027] \u003d set(Antecedent_temp)\n            BLI.at[i,\u0027Intersection_set\u0027] \u003d set(Antecedent_temp).intersection(set(Reachablility_temp))\n    level +\u003d 1\n\n",
      "metadata": {
        "pycharm": {
          "metadata": false,
          "name": "#%%\n",
          "is_executing": false
        }
      }
    },
    {
      "cell_type": "code",
      "execution_count": 37,
      "outputs": [
        {
          "data": {
            "text/plain": "\u003cIPython.core.display.HTML object\u003e",
            "text/html": "\u003ch2\u003eFinal Barrier Level Iteration\u003ch2\u003e"
          },
          "metadata": {},
          "output_type": "display_data"
        },
        {
          "data": {
            "text/plain": "    Parameter Reachability_set                        Antecedent_set  \\\n1         2.0              {2}  {1, 2, 3, 4, 5, 6, 7, 8, 10, 11, 12}   \n8         9.0              {9}  {1, 3, 4, 5, 6, 7, 8, 9, 10, 11, 12}   \n10       11.0             {11}     {1, 3, 4, 5, 6, 7, 8, 10, 11, 12}   \n5         6.0              {6}            {1, 3, 4, 5, 6, 8, 10, 12}   \n6         7.0              {7}            {1, 3, 4, 5, 7, 8, 10, 12}   \n9        10.0             {10}               {1, 3, 4, 5, 8, 10, 12}   \n7         8.0              {8}                   {1, 3, 4, 5, 8, 12}   \n2         3.0       {3, 4, 12}                      {1, 3, 4, 5, 12}   \n3         4.0       {3, 4, 12}                      {1, 3, 4, 5, 12}   \n11       12.0       {3, 4, 12}                      {1, 3, 4, 5, 12}   \n4         5.0              {5}                                {1, 5}   \n0         1.0              {1}                                   {1}   \n\n   Intersection_set  Level  \n1               {2}    1.0  \n8               {9}    1.0  \n10             {11}    2.0  \n5               {6}    3.0  \n6               {7}    3.0  \n9              {10}    4.0  \n7               {8}    5.0  \n2        {3, 4, 12}    6.0  \n3        {3, 4, 12}    6.0  \n11       {3, 4, 12}    6.0  \n4               {5}    7.0  \n0               {1}    8.0  ",
            "text/html": "\u003cdiv\u003e\n\u003cstyle scoped\u003e\n    .dataframe tbody tr th:only-of-type {\n        vertical-align: middle;\n    }\n\n    .dataframe tbody tr th {\n        vertical-align: top;\n    }\n\n    .dataframe thead th {\n        text-align: right;\n    }\n\u003c/style\u003e\n\u003ctable border\u003d\"1\" class\u003d\"dataframe\"\u003e\n  \u003cthead\u003e\n    \u003ctr style\u003d\"text-align: right;\"\u003e\n      \u003cth\u003e\u003c/th\u003e\n      \u003cth\u003eParameter\u003c/th\u003e\n      \u003cth\u003eReachability_set\u003c/th\u003e\n      \u003cth\u003eAntecedent_set\u003c/th\u003e\n      \u003cth\u003eIntersection_set\u003c/th\u003e\n      \u003cth\u003eLevel\u003c/th\u003e\n    \u003c/tr\u003e\n  \u003c/thead\u003e\n  \u003ctbody\u003e\n    \u003ctr\u003e\n      \u003cth\u003e1\u003c/th\u003e\n      \u003ctd\u003e2.0\u003c/td\u003e\n      \u003ctd\u003e{2}\u003c/td\u003e\n      \u003ctd\u003e{1, 2, 3, 4, 5, 6, 7, 8, 10, 11, 12}\u003c/td\u003e\n      \u003ctd\u003e{2}\u003c/td\u003e\n      \u003ctd\u003e1.0\u003c/td\u003e\n    \u003c/tr\u003e\n    \u003ctr\u003e\n      \u003cth\u003e8\u003c/th\u003e\n      \u003ctd\u003e9.0\u003c/td\u003e\n      \u003ctd\u003e{9}\u003c/td\u003e\n      \u003ctd\u003e{1, 3, 4, 5, 6, 7, 8, 9, 10, 11, 12}\u003c/td\u003e\n      \u003ctd\u003e{9}\u003c/td\u003e\n      \u003ctd\u003e1.0\u003c/td\u003e\n    \u003c/tr\u003e\n    \u003ctr\u003e\n      \u003cth\u003e10\u003c/th\u003e\n      \u003ctd\u003e11.0\u003c/td\u003e\n      \u003ctd\u003e{11}\u003c/td\u003e\n      \u003ctd\u003e{1, 3, 4, 5, 6, 7, 8, 10, 11, 12}\u003c/td\u003e\n      \u003ctd\u003e{11}\u003c/td\u003e\n      \u003ctd\u003e2.0\u003c/td\u003e\n    \u003c/tr\u003e\n    \u003ctr\u003e\n      \u003cth\u003e5\u003c/th\u003e\n      \u003ctd\u003e6.0\u003c/td\u003e\n      \u003ctd\u003e{6}\u003c/td\u003e\n      \u003ctd\u003e{1, 3, 4, 5, 6, 8, 10, 12}\u003c/td\u003e\n      \u003ctd\u003e{6}\u003c/td\u003e\n      \u003ctd\u003e3.0\u003c/td\u003e\n    \u003c/tr\u003e\n    \u003ctr\u003e\n      \u003cth\u003e6\u003c/th\u003e\n      \u003ctd\u003e7.0\u003c/td\u003e\n      \u003ctd\u003e{7}\u003c/td\u003e\n      \u003ctd\u003e{1, 3, 4, 5, 7, 8, 10, 12}\u003c/td\u003e\n      \u003ctd\u003e{7}\u003c/td\u003e\n      \u003ctd\u003e3.0\u003c/td\u003e\n    \u003c/tr\u003e\n    \u003ctr\u003e\n      \u003cth\u003e9\u003c/th\u003e\n      \u003ctd\u003e10.0\u003c/td\u003e\n      \u003ctd\u003e{10}\u003c/td\u003e\n      \u003ctd\u003e{1, 3, 4, 5, 8, 10, 12}\u003c/td\u003e\n      \u003ctd\u003e{10}\u003c/td\u003e\n      \u003ctd\u003e4.0\u003c/td\u003e\n    \u003c/tr\u003e\n    \u003ctr\u003e\n      \u003cth\u003e7\u003c/th\u003e\n      \u003ctd\u003e8.0\u003c/td\u003e\n      \u003ctd\u003e{8}\u003c/td\u003e\n      \u003ctd\u003e{1, 3, 4, 5, 8, 12}\u003c/td\u003e\n      \u003ctd\u003e{8}\u003c/td\u003e\n      \u003ctd\u003e5.0\u003c/td\u003e\n    \u003c/tr\u003e\n    \u003ctr\u003e\n      \u003cth\u003e2\u003c/th\u003e\n      \u003ctd\u003e3.0\u003c/td\u003e\n      \u003ctd\u003e{3, 4, 12}\u003c/td\u003e\n      \u003ctd\u003e{1, 3, 4, 5, 12}\u003c/td\u003e\n      \u003ctd\u003e{3, 4, 12}\u003c/td\u003e\n      \u003ctd\u003e6.0\u003c/td\u003e\n    \u003c/tr\u003e\n    \u003ctr\u003e\n      \u003cth\u003e3\u003c/th\u003e\n      \u003ctd\u003e4.0\u003c/td\u003e\n      \u003ctd\u003e{3, 4, 12}\u003c/td\u003e\n      \u003ctd\u003e{1, 3, 4, 5, 12}\u003c/td\u003e\n      \u003ctd\u003e{3, 4, 12}\u003c/td\u003e\n      \u003ctd\u003e6.0\u003c/td\u003e\n    \u003c/tr\u003e\n    \u003ctr\u003e\n      \u003cth\u003e11\u003c/th\u003e\n      \u003ctd\u003e12.0\u003c/td\u003e\n      \u003ctd\u003e{3, 4, 12}\u003c/td\u003e\n      \u003ctd\u003e{1, 3, 4, 5, 12}\u003c/td\u003e\n      \u003ctd\u003e{3, 4, 12}\u003c/td\u003e\n      \u003ctd\u003e6.0\u003c/td\u003e\n    \u003c/tr\u003e\n    \u003ctr\u003e\n      \u003cth\u003e4\u003c/th\u003e\n      \u003ctd\u003e5.0\u003c/td\u003e\n      \u003ctd\u003e{5}\u003c/td\u003e\n      \u003ctd\u003e{1, 5}\u003c/td\u003e\n      \u003ctd\u003e{5}\u003c/td\u003e\n      \u003ctd\u003e7.0\u003c/td\u003e\n    \u003c/tr\u003e\n    \u003ctr\u003e\n      \u003cth\u003e0\u003c/th\u003e\n      \u003ctd\u003e1.0\u003c/td\u003e\n      \u003ctd\u003e{1}\u003c/td\u003e\n      \u003ctd\u003e{1}\u003c/td\u003e\n      \u003ctd\u003e{1}\u003c/td\u003e\n      \u003ctd\u003e8.0\u003c/td\u003e\n    \u003c/tr\u003e\n  \u003c/tbody\u003e\n\u003c/table\u003e\n\u003c/div\u003e"
          },
          "metadata": {},
          "output_type": "display_data"
        }
      ],
      "source": "display(HTML(\u0027\u003ch2\u003eFinal Barrier Level Iteration\u003ch2\u003e\u0027))\ndisplay(BLI_final)\n",
      "metadata": {
        "pycharm": {
          "metadata": false,
          "name": "#%%\n",
          "is_executing": false
        }
      }
    },
    {
      "cell_type": "code",
      "execution_count": 40,
      "outputs": [
        {
          "data": {
            "text/plain": "    2  9  11  6  7  10  8  3  4  12  5  1\n2   1  0   0  0  0   0  0  0  0   0  0  0\n9   0  1   0  0  0   0  0  0  0   0  0  0\n11  1  1   1  0  0   0  0  0  0   0  0  0\n6   1  1   1  1  0   0  0  0  0   0  0  0\n7   1  1   1  0  1   0  0  0  0   0  0  0\n10  1  1   1  1  1   1  0  0  0   0  0  0\n8   1  1   1  1  1   1  1  0  0   0  0  0\n3   1  1   1  1  1   1  1  1  1   1  0  0\n4   1  1   1  1  1   1  1  1  1   1  0  0\n12  1  1   1  1  1   1  1  1  1   1  0  0\n5   1  1   1  1  1   1  1  1  1   1  1  0\n1   1  1   1  1  1   1  1  1  1   1  1  1",
            "text/html": "\u003cdiv\u003e\n\u003cstyle scoped\u003e\n    .dataframe tbody tr th:only-of-type {\n        vertical-align: middle;\n    }\n\n    .dataframe tbody tr th {\n        vertical-align: top;\n    }\n\n    .dataframe thead th {\n        text-align: right;\n    }\n\u003c/style\u003e\n\u003ctable border\u003d\"1\" class\u003d\"dataframe\"\u003e\n  \u003cthead\u003e\n    \u003ctr style\u003d\"text-align: right;\"\u003e\n      \u003cth\u003e\u003c/th\u003e\n      \u003cth\u003e2\u003c/th\u003e\n      \u003cth\u003e9\u003c/th\u003e\n      \u003cth\u003e11\u003c/th\u003e\n      \u003cth\u003e6\u003c/th\u003e\n      \u003cth\u003e7\u003c/th\u003e\n      \u003cth\u003e10\u003c/th\u003e\n      \u003cth\u003e8\u003c/th\u003e\n      \u003cth\u003e3\u003c/th\u003e\n      \u003cth\u003e4\u003c/th\u003e\n      \u003cth\u003e12\u003c/th\u003e\n      \u003cth\u003e5\u003c/th\u003e\n      \u003cth\u003e1\u003c/th\u003e\n    \u003c/tr\u003e\n  \u003c/thead\u003e\n  \u003ctbody\u003e\n    \u003ctr\u003e\n      \u003cth\u003e2\u003c/th\u003e\n      \u003ctd\u003e1\u003c/td\u003e\n      \u003ctd\u003e0\u003c/td\u003e\n      \u003ctd\u003e0\u003c/td\u003e\n      \u003ctd\u003e0\u003c/td\u003e\n      \u003ctd\u003e0\u003c/td\u003e\n      \u003ctd\u003e0\u003c/td\u003e\n      \u003ctd\u003e0\u003c/td\u003e\n      \u003ctd\u003e0\u003c/td\u003e\n      \u003ctd\u003e0\u003c/td\u003e\n      \u003ctd\u003e0\u003c/td\u003e\n      \u003ctd\u003e0\u003c/td\u003e\n      \u003ctd\u003e0\u003c/td\u003e\n    \u003c/tr\u003e\n    \u003ctr\u003e\n      \u003cth\u003e9\u003c/th\u003e\n      \u003ctd\u003e0\u003c/td\u003e\n      \u003ctd\u003e1\u003c/td\u003e\n      \u003ctd\u003e0\u003c/td\u003e\n      \u003ctd\u003e0\u003c/td\u003e\n      \u003ctd\u003e0\u003c/td\u003e\n      \u003ctd\u003e0\u003c/td\u003e\n      \u003ctd\u003e0\u003c/td\u003e\n      \u003ctd\u003e0\u003c/td\u003e\n      \u003ctd\u003e0\u003c/td\u003e\n      \u003ctd\u003e0\u003c/td\u003e\n      \u003ctd\u003e0\u003c/td\u003e\n      \u003ctd\u003e0\u003c/td\u003e\n    \u003c/tr\u003e\n    \u003ctr\u003e\n      \u003cth\u003e11\u003c/th\u003e\n      \u003ctd\u003e1\u003c/td\u003e\n      \u003ctd\u003e1\u003c/td\u003e\n      \u003ctd\u003e1\u003c/td\u003e\n      \u003ctd\u003e0\u003c/td\u003e\n      \u003ctd\u003e0\u003c/td\u003e\n      \u003ctd\u003e0\u003c/td\u003e\n      \u003ctd\u003e0\u003c/td\u003e\n      \u003ctd\u003e0\u003c/td\u003e\n      \u003ctd\u003e0\u003c/td\u003e\n      \u003ctd\u003e0\u003c/td\u003e\n      \u003ctd\u003e0\u003c/td\u003e\n      \u003ctd\u003e0\u003c/td\u003e\n    \u003c/tr\u003e\n    \u003ctr\u003e\n      \u003cth\u003e6\u003c/th\u003e\n      \u003ctd\u003e1\u003c/td\u003e\n      \u003ctd\u003e1\u003c/td\u003e\n      \u003ctd\u003e1\u003c/td\u003e\n      \u003ctd\u003e1\u003c/td\u003e\n      \u003ctd\u003e0\u003c/td\u003e\n      \u003ctd\u003e0\u003c/td\u003e\n      \u003ctd\u003e0\u003c/td\u003e\n      \u003ctd\u003e0\u003c/td\u003e\n      \u003ctd\u003e0\u003c/td\u003e\n      \u003ctd\u003e0\u003c/td\u003e\n      \u003ctd\u003e0\u003c/td\u003e\n      \u003ctd\u003e0\u003c/td\u003e\n    \u003c/tr\u003e\n    \u003ctr\u003e\n      \u003cth\u003e7\u003c/th\u003e\n      \u003ctd\u003e1\u003c/td\u003e\n      \u003ctd\u003e1\u003c/td\u003e\n      \u003ctd\u003e1\u003c/td\u003e\n      \u003ctd\u003e0\u003c/td\u003e\n      \u003ctd\u003e1\u003c/td\u003e\n      \u003ctd\u003e0\u003c/td\u003e\n      \u003ctd\u003e0\u003c/td\u003e\n      \u003ctd\u003e0\u003c/td\u003e\n      \u003ctd\u003e0\u003c/td\u003e\n      \u003ctd\u003e0\u003c/td\u003e\n      \u003ctd\u003e0\u003c/td\u003e\n      \u003ctd\u003e0\u003c/td\u003e\n    \u003c/tr\u003e\n    \u003ctr\u003e\n      \u003cth\u003e10\u003c/th\u003e\n      \u003ctd\u003e1\u003c/td\u003e\n      \u003ctd\u003e1\u003c/td\u003e\n      \u003ctd\u003e1\u003c/td\u003e\n      \u003ctd\u003e1\u003c/td\u003e\n      \u003ctd\u003e1\u003c/td\u003e\n      \u003ctd\u003e1\u003c/td\u003e\n      \u003ctd\u003e0\u003c/td\u003e\n      \u003ctd\u003e0\u003c/td\u003e\n      \u003ctd\u003e0\u003c/td\u003e\n      \u003ctd\u003e0\u003c/td\u003e\n      \u003ctd\u003e0\u003c/td\u003e\n      \u003ctd\u003e0\u003c/td\u003e\n    \u003c/tr\u003e\n    \u003ctr\u003e\n      \u003cth\u003e8\u003c/th\u003e\n      \u003ctd\u003e1\u003c/td\u003e\n      \u003ctd\u003e1\u003c/td\u003e\n      \u003ctd\u003e1\u003c/td\u003e\n      \u003ctd\u003e1\u003c/td\u003e\n      \u003ctd\u003e1\u003c/td\u003e\n      \u003ctd\u003e1\u003c/td\u003e\n      \u003ctd\u003e1\u003c/td\u003e\n      \u003ctd\u003e0\u003c/td\u003e\n      \u003ctd\u003e0\u003c/td\u003e\n      \u003ctd\u003e0\u003c/td\u003e\n      \u003ctd\u003e0\u003c/td\u003e\n      \u003ctd\u003e0\u003c/td\u003e\n    \u003c/tr\u003e\n    \u003ctr\u003e\n      \u003cth\u003e3\u003c/th\u003e\n      \u003ctd\u003e1\u003c/td\u003e\n      \u003ctd\u003e1\u003c/td\u003e\n      \u003ctd\u003e1\u003c/td\u003e\n      \u003ctd\u003e1\u003c/td\u003e\n      \u003ctd\u003e1\u003c/td\u003e\n      \u003ctd\u003e1\u003c/td\u003e\n      \u003ctd\u003e1\u003c/td\u003e\n      \u003ctd\u003e1\u003c/td\u003e\n      \u003ctd\u003e1\u003c/td\u003e\n      \u003ctd\u003e1\u003c/td\u003e\n      \u003ctd\u003e0\u003c/td\u003e\n      \u003ctd\u003e0\u003c/td\u003e\n    \u003c/tr\u003e\n    \u003ctr\u003e\n      \u003cth\u003e4\u003c/th\u003e\n      \u003ctd\u003e1\u003c/td\u003e\n      \u003ctd\u003e1\u003c/td\u003e\n      \u003ctd\u003e1\u003c/td\u003e\n      \u003ctd\u003e1\u003c/td\u003e\n      \u003ctd\u003e1\u003c/td\u003e\n      \u003ctd\u003e1\u003c/td\u003e\n      \u003ctd\u003e1\u003c/td\u003e\n      \u003ctd\u003e1\u003c/td\u003e\n      \u003ctd\u003e1\u003c/td\u003e\n      \u003ctd\u003e1\u003c/td\u003e\n      \u003ctd\u003e0\u003c/td\u003e\n      \u003ctd\u003e0\u003c/td\u003e\n    \u003c/tr\u003e\n    \u003ctr\u003e\n      \u003cth\u003e12\u003c/th\u003e\n      \u003ctd\u003e1\u003c/td\u003e\n      \u003ctd\u003e1\u003c/td\u003e\n      \u003ctd\u003e1\u003c/td\u003e\n      \u003ctd\u003e1\u003c/td\u003e\n      \u003ctd\u003e1\u003c/td\u003e\n      \u003ctd\u003e1\u003c/td\u003e\n      \u003ctd\u003e1\u003c/td\u003e\n      \u003ctd\u003e1\u003c/td\u003e\n      \u003ctd\u003e1\u003c/td\u003e\n      \u003ctd\u003e1\u003c/td\u003e\n      \u003ctd\u003e0\u003c/td\u003e\n      \u003ctd\u003e0\u003c/td\u003e\n    \u003c/tr\u003e\n    \u003ctr\u003e\n      \u003cth\u003e5\u003c/th\u003e\n      \u003ctd\u003e1\u003c/td\u003e\n      \u003ctd\u003e1\u003c/td\u003e\n      \u003ctd\u003e1\u003c/td\u003e\n      \u003ctd\u003e1\u003c/td\u003e\n      \u003ctd\u003e1\u003c/td\u003e\n      \u003ctd\u003e1\u003c/td\u003e\n      \u003ctd\u003e1\u003c/td\u003e\n      \u003ctd\u003e1\u003c/td\u003e\n      \u003ctd\u003e1\u003c/td\u003e\n      \u003ctd\u003e1\u003c/td\u003e\n      \u003ctd\u003e1\u003c/td\u003e\n      \u003ctd\u003e0\u003c/td\u003e\n    \u003c/tr\u003e\n    \u003ctr\u003e\n      \u003cth\u003e1\u003c/th\u003e\n      \u003ctd\u003e1\u003c/td\u003e\n      \u003ctd\u003e1\u003c/td\u003e\n      \u003ctd\u003e1\u003c/td\u003e\n      \u003ctd\u003e1\u003c/td\u003e\n      \u003ctd\u003e1\u003c/td\u003e\n      \u003ctd\u003e1\u003c/td\u003e\n      \u003ctd\u003e1\u003c/td\u003e\n      \u003ctd\u003e1\u003c/td\u003e\n      \u003ctd\u003e1\u003c/td\u003e\n      \u003ctd\u003e1\u003c/td\u003e\n      \u003ctd\u003e1\u003c/td\u003e\n      \u003ctd\u003e1\u003c/td\u003e\n    \u003c/tr\u003e\n  \u003c/tbody\u003e\n\u003c/table\u003e\n\u003c/div\u003e"
          },
          "metadata": {},
          "output_type": "execute_result",
          "execution_count": 40
        }
      ],
      "source": "index \u003d [int(d) for d in BLI_final[\u0027Parameter\u0027].tolist()] \n\nFRM \u003dFRM.reindex(index)\ncolumn \u003d [str(d) for d in index] \n#column.append(\u0027Driving_power\u0027)\n#print(column)\nFRM \u003d FRM[column]\nFRM\n\n\n\n",
      "metadata": {
        "pycharm": {
          "metadata": false,
          "name": "#%%\n",
          "is_executing": false
        }
      }
    },
    {
      "cell_type": "markdown",
      "source": "last step : add driving power at the last to FRM",
      "metadata": {
        "pycharm": {
          "metadata": false,
          "name": "#%% md\n"
        }
      }
    },
    {
      "cell_type": "code",
      "execution_count": null,
      "outputs": [],
      "source": "##TODO: Add Driving power at the last\n\ndependency_power \u003d FRM.sum(axis\u003d0).rename(\"Dependency_power\")\nDriving_power \u003d FRM.sum(axis\u003d1)\n#dependency_power \u003ddependency_power.rename(\"Dependency_power\")\nFRM \u003d FRM.append(dependency_power)\nFRM[\u0027Driving_power\u0027] \u003d Driving_power\n\n\n\n\n\n\nlevel \u003d 1\nremoved_numbers \u003d []\nBLI_final \u003d BLI.copy()\nwhile len(removed_numbers) \u003c len(BLI.index):\n    tem_list \u003d BLI[BLI[\u0027Reachability_set\u0027] \u003d\u003d BLI[\u0027Intersection_set\u0027]][\u0027Parameter\u0027].tolist()\n    removed_numbers +\u003d tem_list\n    BLI.loc[BLI[\u0027Reachability_set\u0027] \u003d\u003d BLI[\u0027Intersection_set\u0027], \u0027Level\u0027] \u003d level\n    for i in BLI.index:\n\n        if BLI.at[i,\u0027Parameter\u0027] in removed_numbers:\n            BLI.at[i,\u0027Intersection_set\u0027] \u003d None\n            continue\n        else:\n            Reachablility_temp \u003d frm.at[i,\u0027Reachability_set\u0027]\n            Reachablility_temp \u003d [d for d in Reachablility_temp if d not in removed_numbers]\n            BLI.at[i,\u0027Reachability_set\u0027] \u003d  set(Reachablility_temp)\n            Antecedent_temp \u003d frm.at[i,\u0027Antecedent_set\u0027]\n            Antecedent_temp \u003d [d for d in Antecedent_temp if d not in removed_numbers]\n            BLI.at[i, \u0027Antecedent_set\u0027] \u003d set(Antecedent_temp)\n            BLI.at[i,\u0027Intersection_set\u0027] \u003d set(Antecedent_temp).intersection(set(Reachablility_temp))\n    level +\u003d 1\n    \n\nfrm",
      "metadata": {
        "pycharm": {
          "metadata": false,
          "name": "#%%\n"
        }
      }
    },
    {
      "cell_type": "markdown",
      "metadata": {
        "pycharm": {}
      },
      "source": ""
    },
    {
      "cell_type": "code",
      "execution_count": null,
      "metadata": {
        "pycharm": {}
      },
      "outputs": [],
      "source": []
    }
  ],
  "metadata": {
    "kernelspec": {
      "name": "pycharm-f35c001e",
      "language": "python",
      "display_name": "PyCharm (ISM)"
    },
    "language_info": {
      "codemirror_mode": {
        "name": "ipython",
        "version": 3
      },
      "file_extension": ".py",
      "mimetype": "text/x-python",
      "name": "python",
      "nbconvert_exporter": "python",
      "pygments_lexer": "ipython3",
      "version": "3.6.5"
    }
  },
  "nbformat": 4,
  "nbformat_minor": 2
}