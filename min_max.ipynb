{
 "cells": [
  {
   "cell_type": "code",
   "execution_count": 19,
   "metadata": {},
   "outputs": [
    {
     "data": {
      "application/javascript": [
       "IPython.notebook.set_autosave_interval(1000)"
      ]
     },
     "metadata": {},
     "output_type": "display_data"
    },
    {
     "name": "stdout",
     "output_type": "stream",
     "text": [
      "Autosaving every 1 seconds\n"
     ]
    }
   ],
   "source": [
    "%matplotlib notebook\n",
    "import numpy as np\n",
    "import pandas as pd\n",
    "from IPython.display import display, Markdown, Latex,HTML\n",
    "import os\n",
    "%autosave 1\n",
    "\n",
    "def maxMin(x, y):\n",
    "    z = []\n",
    "    for x1 in x:\n",
    "        for y1 in y.T:\n",
    "            z.append(max(np.minimum(x1, y1)))\n",
    "    return np.array(z).reshape((x.shape[0], y.shape[1]))"
   ]
  },
  {
   "cell_type": "code",
   "execution_count": 12,
   "metadata": {},
   "outputs": [
    {
     "data": {
      "text/markdown": [
       "<h3>Enter First matrix file Name</h3>"
      ],
      "text/plain": [
       "<IPython.core.display.Markdown object>"
      ]
     },
     "metadata": {},
     "output_type": "display_data"
    },
    {
     "name": "stdout",
     "output_type": "stream",
     "text": [
      "x.csv\n",
      "file found\n"
     ]
    }
   ],
   "source": [
    "display(Markdown(\"<h3>Enter First matrix file Name</h3>\"))\n",
    "base_path = os.getcwd()\n",
    "while True:\n",
    "    filename = input()\n",
    "    full_path = os.path.join(base_path,filename)\n",
    "    if  os.path.isfile(full_path):\n",
    "        print(\"file found\")\n",
    "        break\n",
    "    else:\n",
    "        print(\"file not found. please enter proper input file name or place the file in  the same directory\")\n",
    "\n",
    "file_id = filename.split('.')[0]\n",
    "x = np.genfromtxt(full_path,dtype=np.float32, delimiter=',')"
   ]
  },
  {
   "cell_type": "code",
   "execution_count": 21,
   "metadata": {},
   "outputs": [
    {
     "data": {
      "text/plain": [
       "array([[1. , 0.8, 0. , 0.1, 0.2],\n",
       "       [0.8, 1. , 0.4, 0. , 0.9],\n",
       "       [0. , 0.4, 1. , 0. , 0. ],\n",
       "       [0.1, 0. , 0. , 1. , 0.5],\n",
       "       [0.2, 0.9, 0. , 0.5, 1. ]], dtype=float32)"
      ]
     },
     "execution_count": 21,
     "metadata": {},
     "output_type": "execute_result"
    }
   ],
   "source": [
    "x"
   ]
  },
  {
   "cell_type": "code",
   "execution_count": 14,
   "metadata": {},
   "outputs": [
    {
     "data": {
      "text/markdown": [
       "<h3>Enter the next matrix file Name</h3>"
      ],
      "text/plain": [
       "<IPython.core.display.Markdown object>"
      ]
     },
     "metadata": {},
     "output_type": "display_data"
    },
    {
     "name": "stdout",
     "output_type": "stream",
     "text": [
      "x.csv\n",
      "file found\n"
     ]
    }
   ],
   "source": [
    "display(Markdown(\"<h3>Enter the next matrix file Name</h3>\"))\n",
    "base_path = os.getcwd()\n",
    "while True:\n",
    "    filename = input()\n",
    "    full_path = os.path.join(base_path,filename)\n",
    "    if  os.path.isfile(full_path):\n",
    "        print(\"file found\")\n",
    "        break\n",
    "    else:\n",
    "        print(\"file not found. please enter proper input file name or place the file in  the same directory\")\n",
    "\n",
    "file_id = filename.split('.')[0]\n",
    "y = np.genfromtxt(full_path,dtype=np.float32, delimiter=',')"
   ]
  },
  {
   "cell_type": "code",
   "execution_count": 20,
   "metadata": {},
   "outputs": [
    {
     "data": {
      "text/markdown": [
       "<h4>Min-Max Composition</h4>"
      ],
      "text/plain": [
       "<IPython.core.display.Markdown object>"
      ]
     },
     "metadata": {},
     "output_type": "display_data"
    },
    {
     "data": {
      "text/html": [
       "<div>\n",
       "<style scoped>\n",
       "    .dataframe tbody tr th:only-of-type {\n",
       "        vertical-align: middle;\n",
       "    }\n",
       "\n",
       "    .dataframe tbody tr th {\n",
       "        vertical-align: top;\n",
       "    }\n",
       "\n",
       "    .dataframe thead th {\n",
       "        text-align: right;\n",
       "    }\n",
       "</style>\n",
       "<table border=\"1\" class=\"dataframe\">\n",
       "  <thead>\n",
       "    <tr style=\"text-align: right;\">\n",
       "      <th></th>\n",
       "      <th>0</th>\n",
       "      <th>1</th>\n",
       "      <th>2</th>\n",
       "      <th>3</th>\n",
       "      <th>4</th>\n",
       "    </tr>\n",
       "  </thead>\n",
       "  <tbody>\n",
       "    <tr>\n",
       "      <td>0</td>\n",
       "      <td>1.0</td>\n",
       "      <td>0.8</td>\n",
       "      <td>0.4</td>\n",
       "      <td>0.2</td>\n",
       "      <td>0.8</td>\n",
       "    </tr>\n",
       "    <tr>\n",
       "      <td>1</td>\n",
       "      <td>0.8</td>\n",
       "      <td>1.0</td>\n",
       "      <td>0.4</td>\n",
       "      <td>0.5</td>\n",
       "      <td>0.9</td>\n",
       "    </tr>\n",
       "    <tr>\n",
       "      <td>2</td>\n",
       "      <td>0.4</td>\n",
       "      <td>0.4</td>\n",
       "      <td>1.0</td>\n",
       "      <td>0.0</td>\n",
       "      <td>0.4</td>\n",
       "    </tr>\n",
       "    <tr>\n",
       "      <td>3</td>\n",
       "      <td>0.2</td>\n",
       "      <td>0.5</td>\n",
       "      <td>0.0</td>\n",
       "      <td>1.0</td>\n",
       "      <td>0.5</td>\n",
       "    </tr>\n",
       "    <tr>\n",
       "      <td>4</td>\n",
       "      <td>0.8</td>\n",
       "      <td>0.9</td>\n",
       "      <td>0.4</td>\n",
       "      <td>0.5</td>\n",
       "      <td>1.0</td>\n",
       "    </tr>\n",
       "  </tbody>\n",
       "</table>\n",
       "</div>"
      ],
      "text/plain": [
       "     0    1    2    3    4\n",
       "0  1.0  0.8  0.4  0.2  0.8\n",
       "1  0.8  1.0  0.4  0.5  0.9\n",
       "2  0.4  0.4  1.0  0.0  0.4\n",
       "3  0.2  0.5  0.0  1.0  0.5\n",
       "4  0.8  0.9  0.4  0.5  1.0"
      ]
     },
     "execution_count": 20,
     "metadata": {},
     "output_type": "execute_result"
    }
   ],
   "source": [
    "R = maxMin(x,y)\n",
    "df = pd.DataFrame(R)\n",
    "display(Markdown(\"<h4>Min-Max Composition</h4>\"))\n",
    "df"
   ]
  },
  {
   "cell_type": "code",
   "execution_count": 24,
   "metadata": {},
   "outputs": [
    {
     "data": {
      "text/markdown": [
       "<h4>Squared Min-Max Composition</h4>"
      ],
      "text/plain": [
       "<IPython.core.display.Markdown object>"
      ]
     },
     "metadata": {},
     "output_type": "display_data"
    },
    {
     "data": {
      "text/html": [
       "<div>\n",
       "<style scoped>\n",
       "    .dataframe tbody tr th:only-of-type {\n",
       "        vertical-align: middle;\n",
       "    }\n",
       "\n",
       "    .dataframe tbody tr th {\n",
       "        vertical-align: top;\n",
       "    }\n",
       "\n",
       "    .dataframe thead th {\n",
       "        text-align: right;\n",
       "    }\n",
       "</style>\n",
       "<table border=\"1\" class=\"dataframe\">\n",
       "  <thead>\n",
       "    <tr style=\"text-align: right;\">\n",
       "      <th></th>\n",
       "      <th>0</th>\n",
       "      <th>1</th>\n",
       "      <th>2</th>\n",
       "      <th>3</th>\n",
       "      <th>4</th>\n",
       "    </tr>\n",
       "  </thead>\n",
       "  <tbody>\n",
       "    <tr>\n",
       "      <td>0</td>\n",
       "      <td>2.48</td>\n",
       "      <td>2.58</td>\n",
       "      <td>1.44</td>\n",
       "      <td>1.20</td>\n",
       "      <td>2.58</td>\n",
       "    </tr>\n",
       "    <tr>\n",
       "      <td>1</td>\n",
       "      <td>2.58</td>\n",
       "      <td>2.86</td>\n",
       "      <td>1.48</td>\n",
       "      <td>1.61</td>\n",
       "      <td>2.85</td>\n",
       "    </tr>\n",
       "    <tr>\n",
       "      <td>2</td>\n",
       "      <td>1.44</td>\n",
       "      <td>1.48</td>\n",
       "      <td>1.48</td>\n",
       "      <td>0.48</td>\n",
       "      <td>1.48</td>\n",
       "    </tr>\n",
       "    <tr>\n",
       "      <td>3</td>\n",
       "      <td>1.20</td>\n",
       "      <td>1.61</td>\n",
       "      <td>0.48</td>\n",
       "      <td>1.54</td>\n",
       "      <td>1.61</td>\n",
       "    </tr>\n",
       "    <tr>\n",
       "      <td>4</td>\n",
       "      <td>2.58</td>\n",
       "      <td>2.85</td>\n",
       "      <td>1.48</td>\n",
       "      <td>1.61</td>\n",
       "      <td>2.86</td>\n",
       "    </tr>\n",
       "  </tbody>\n",
       "</table>\n",
       "</div>"
      ],
      "text/plain": [
       "      0     1     2     3     4\n",
       "0  2.48  2.58  1.44  1.20  2.58\n",
       "1  2.58  2.86  1.48  1.61  2.85\n",
       "2  1.44  1.48  1.48  0.48  1.48\n",
       "3  1.20  1.61  0.48  1.54  1.61\n",
       "4  2.58  2.85  1.48  1.61  2.86"
      ]
     },
     "execution_count": 24,
     "metadata": {},
     "output_type": "execute_result"
    }
   ],
   "source": [
    "display(Markdown(\"<h4>Squared Min-Max Composition</h4>\"))\n",
    "df.dot(df)"
   ]
  },
  {
   "cell_type": "code",
   "execution_count": 25,
   "metadata": {},
   "outputs": [
    {
     "data": {
      "text/markdown": [
       "<h4>cubed Min-Max Composition</h4>"
      ],
      "text/plain": [
       "<IPython.core.display.Markdown object>"
      ]
     },
     "metadata": {},
     "output_type": "display_data"
    },
    {
     "data": {
      "text/html": [
       "<div>\n",
       "<style scoped>\n",
       "    .dataframe tbody tr th:only-of-type {\n",
       "        vertical-align: middle;\n",
       "    }\n",
       "\n",
       "    .dataframe tbody tr th {\n",
       "        vertical-align: top;\n",
       "    }\n",
       "\n",
       "    .dataframe thead th {\n",
       "        text-align: right;\n",
       "    }\n",
       "</style>\n",
       "<table border=\"1\" class=\"dataframe\">\n",
       "  <thead>\n",
       "    <tr style=\"text-align: right;\">\n",
       "      <th></th>\n",
       "      <th>0</th>\n",
       "      <th>1</th>\n",
       "      <th>2</th>\n",
       "      <th>3</th>\n",
       "      <th>4</th>\n",
       "    </tr>\n",
       "  </thead>\n",
       "  <tbody>\n",
       "    <tr>\n",
       "      <td>0</td>\n",
       "      <td>7.424001</td>\n",
       "      <td>8.062000</td>\n",
       "      <td>4.496</td>\n",
       "      <td>4.276</td>\n",
       "      <td>8.062</td>\n",
       "    </tr>\n",
       "    <tr>\n",
       "      <td>1</td>\n",
       "      <td>8.062000</td>\n",
       "      <td>8.886000</td>\n",
       "      <td>4.796</td>\n",
       "      <td>4.981</td>\n",
       "      <td>8.885</td>\n",
       "    </tr>\n",
       "    <tr>\n",
       "      <td>2</td>\n",
       "      <td>4.496000</td>\n",
       "      <td>4.796000</td>\n",
       "      <td>3.240</td>\n",
       "      <td>2.248</td>\n",
       "      <td>4.796</td>\n",
       "    </tr>\n",
       "    <tr>\n",
       "      <td>3</td>\n",
       "      <td>4.276000</td>\n",
       "      <td>4.981000</td>\n",
       "      <td>2.248</td>\n",
       "      <td>3.390</td>\n",
       "      <td>4.981</td>\n",
       "    </tr>\n",
       "    <tr>\n",
       "      <td>4</td>\n",
       "      <td>8.062000</td>\n",
       "      <td>8.884999</td>\n",
       "      <td>4.796</td>\n",
       "      <td>4.981</td>\n",
       "      <td>8.886</td>\n",
       "    </tr>\n",
       "  </tbody>\n",
       "</table>\n",
       "</div>"
      ],
      "text/plain": [
       "          0         1      2      3      4\n",
       "0  7.424001  8.062000  4.496  4.276  8.062\n",
       "1  8.062000  8.886000  4.796  4.981  8.885\n",
       "2  4.496000  4.796000  3.240  2.248  4.796\n",
       "3  4.276000  4.981000  2.248  3.390  4.981\n",
       "4  8.062000  8.884999  4.796  4.981  8.886"
      ]
     },
     "execution_count": 25,
     "metadata": {},
     "output_type": "execute_result"
    }
   ],
   "source": [
    "display(Markdown(\"<h4>cubed Min-Max Composition</h4>\"))\n",
    "df.dot(df).dot(df)"
   ]
  },
  {
   "cell_type": "code",
   "execution_count": 26,
   "metadata": {},
   "outputs": [
    {
     "data": {
      "text/markdown": [
       "<h4>fourth powered Min-Max Composition</h4>"
      ],
      "text/plain": [
       "<IPython.core.display.Markdown object>"
      ]
     },
     "metadata": {},
     "output_type": "display_data"
    },
    {
     "data": {
      "text/html": [
       "<div>\n",
       "<style scoped>\n",
       "    .dataframe tbody tr th:only-of-type {\n",
       "        vertical-align: middle;\n",
       "    }\n",
       "\n",
       "    .dataframe tbody tr th {\n",
       "        vertical-align: top;\n",
       "    }\n",
       "\n",
       "    .dataframe thead th {\n",
       "        text-align: right;\n",
       "    }\n",
       "</style>\n",
       "<table border=\"1\" class=\"dataframe\">\n",
       "  <thead>\n",
       "    <tr style=\"text-align: right;\">\n",
       "      <th></th>\n",
       "      <th>0</th>\n",
       "      <th>1</th>\n",
       "      <th>2</th>\n",
       "      <th>3</th>\n",
       "      <th>4</th>\n",
       "    </tr>\n",
       "  </thead>\n",
       "  <tbody>\n",
       "    <tr>\n",
       "      <td>0</td>\n",
       "      <td>22.976801</td>\n",
       "      <td>25.193401</td>\n",
       "      <td>13.915201</td>\n",
       "      <td>13.822801</td>\n",
       "      <td>25.193401</td>\n",
       "    </tr>\n",
       "    <tr>\n",
       "      <td>1</td>\n",
       "      <td>25.193401</td>\n",
       "      <td>27.740999</td>\n",
       "      <td>15.129200</td>\n",
       "      <td>15.478900</td>\n",
       "      <td>27.740900</td>\n",
       "    </tr>\n",
       "    <tr>\n",
       "      <td>2</td>\n",
       "      <td>13.915200</td>\n",
       "      <td>15.129201</td>\n",
       "      <td>8.875200</td>\n",
       "      <td>7.943200</td>\n",
       "      <td>15.129200</td>\n",
       "    </tr>\n",
       "    <tr>\n",
       "      <td>3</td>\n",
       "      <td>13.822802</td>\n",
       "      <td>15.478900</td>\n",
       "      <td>7.943200</td>\n",
       "      <td>9.226200</td>\n",
       "      <td>15.478900</td>\n",
       "    </tr>\n",
       "    <tr>\n",
       "      <td>4</td>\n",
       "      <td>25.193399</td>\n",
       "      <td>27.740900</td>\n",
       "      <td>15.129200</td>\n",
       "      <td>15.478900</td>\n",
       "      <td>27.740999</td>\n",
       "    </tr>\n",
       "  </tbody>\n",
       "</table>\n",
       "</div>"
      ],
      "text/plain": [
       "           0          1          2          3          4\n",
       "0  22.976801  25.193401  13.915201  13.822801  25.193401\n",
       "1  25.193401  27.740999  15.129200  15.478900  27.740900\n",
       "2  13.915200  15.129201   8.875200   7.943200  15.129200\n",
       "3  13.822802  15.478900   7.943200   9.226200  15.478900\n",
       "4  25.193399  27.740900  15.129200  15.478900  27.740999"
      ]
     },
     "execution_count": 26,
     "metadata": {},
     "output_type": "execute_result"
    }
   ],
   "source": [
    "display(Markdown(\"<h4>fourth powered Min-Max Composition</h4>\"))\n",
    "df.dot(df).dot(df).dot(df)"
   ]
  },
  {
   "cell_type": "code",
   "execution_count": null,
   "metadata": {},
   "outputs": [],
   "source": []
  }
 ],
 "metadata": {
  "kernelspec": {
   "display_name": "Python 3",
   "language": "python",
   "name": "python3"
  },
  "language_info": {
   "codemirror_mode": {
    "name": "ipython",
    "version": 3
   },
   "file_extension": ".py",
   "mimetype": "text/x-python",
   "name": "python",
   "nbconvert_exporter": "python",
   "pygments_lexer": "ipython3",
   "version": "3.6.5"
  }
 },
 "nbformat": 4,
 "nbformat_minor": 2
}
